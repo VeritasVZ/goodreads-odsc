{
 "cells": [
  {
   "cell_type": "code",
   "execution_count": 113,
   "metadata": {
    "collapsed": true
   },
   "outputs": [],
   "source": [
    "import pandas as pd\n",
    "import matplotlib\n",
    "import matplotlib.pyplot as plt\n",
    "\n",
    "%matplotlib inline"
   ]
  },
  {
   "cell_type": "code",
   "execution_count": 8,
   "metadata": {
    "collapsed": false
   },
   "outputs": [],
   "source": [
    "tags = pd.read_csv('tags.csv')\n",
    "tag_counts = pd.read_csv('book_tags.csv')\n",
    "books = pd.read_csv('books.csv')\n",
    "ratings = pd.read_csv('ratings.csv')\n",
    "to_read = pd.read_csv('to_read.csv')"
   ]
  },
  {
   "cell_type": "code",
   "execution_count": 11,
   "metadata": {
    "collapsed": false
   },
   "outputs": [
    {
     "data": {
      "text/html": [
       "<div>\n",
       "<table border=\"1\" class=\"dataframe\">\n",
       "  <thead>\n",
       "    <tr style=\"text-align: right;\">\n",
       "      <th></th>\n",
       "      <th>tag_id</th>\n",
       "      <th>tag_name</th>\n",
       "    </tr>\n",
       "  </thead>\n",
       "  <tbody>\n",
       "    <tr>\n",
       "      <th>0</th>\n",
       "      <td>0</td>\n",
       "      <td>-</td>\n",
       "    </tr>\n",
       "    <tr>\n",
       "      <th>1</th>\n",
       "      <td>1</td>\n",
       "      <td>--1-</td>\n",
       "    </tr>\n",
       "    <tr>\n",
       "      <th>2</th>\n",
       "      <td>2</td>\n",
       "      <td>--10-</td>\n",
       "    </tr>\n",
       "    <tr>\n",
       "      <th>3</th>\n",
       "      <td>3</td>\n",
       "      <td>--12-</td>\n",
       "    </tr>\n",
       "    <tr>\n",
       "      <th>4</th>\n",
       "      <td>4</td>\n",
       "      <td>--122-</td>\n",
       "    </tr>\n",
       "  </tbody>\n",
       "</table>\n",
       "</div>"
      ],
      "text/plain": [
       "   tag_id tag_name\n",
       "0       0        -\n",
       "1       1     --1-\n",
       "2       2    --10-\n",
       "3       3    --12-\n",
       "4       4   --122-"
      ]
     },
     "execution_count": 11,
     "metadata": {},
     "output_type": "execute_result"
    }
   ],
   "source": [
    "tags.head()"
   ]
  },
  {
   "cell_type": "code",
   "execution_count": 12,
   "metadata": {
    "collapsed": false
   },
   "outputs": [
    {
     "data": {
      "text/html": [
       "<div>\n",
       "<table border=\"1\" class=\"dataframe\">\n",
       "  <thead>\n",
       "    <tr style=\"text-align: right;\">\n",
       "      <th></th>\n",
       "      <th>goodreads_book_id</th>\n",
       "      <th>tag_id</th>\n",
       "      <th>count</th>\n",
       "    </tr>\n",
       "  </thead>\n",
       "  <tbody>\n",
       "    <tr>\n",
       "      <th>0</th>\n",
       "      <td>1</td>\n",
       "      <td>30574</td>\n",
       "      <td>167697</td>\n",
       "    </tr>\n",
       "    <tr>\n",
       "      <th>1</th>\n",
       "      <td>1</td>\n",
       "      <td>11305</td>\n",
       "      <td>37174</td>\n",
       "    </tr>\n",
       "    <tr>\n",
       "      <th>2</th>\n",
       "      <td>1</td>\n",
       "      <td>11557</td>\n",
       "      <td>34173</td>\n",
       "    </tr>\n",
       "    <tr>\n",
       "      <th>3</th>\n",
       "      <td>1</td>\n",
       "      <td>8717</td>\n",
       "      <td>12986</td>\n",
       "    </tr>\n",
       "    <tr>\n",
       "      <th>4</th>\n",
       "      <td>1</td>\n",
       "      <td>33114</td>\n",
       "      <td>12716</td>\n",
       "    </tr>\n",
       "  </tbody>\n",
       "</table>\n",
       "</div>"
      ],
      "text/plain": [
       "   goodreads_book_id  tag_id   count\n",
       "0                  1   30574  167697\n",
       "1                  1   11305   37174\n",
       "2                  1   11557   34173\n",
       "3                  1    8717   12986\n",
       "4                  1   33114   12716"
      ]
     },
     "execution_count": 12,
     "metadata": {},
     "output_type": "execute_result"
    }
   ],
   "source": [
    "tag_counts.head()"
   ]
  },
  {
   "cell_type": "code",
   "execution_count": 13,
   "metadata": {
    "collapsed": false
   },
   "outputs": [
    {
     "data": {
      "text/html": [
       "<div>\n",
       "<table border=\"1\" class=\"dataframe\">\n",
       "  <thead>\n",
       "    <tr style=\"text-align: right;\">\n",
       "      <th></th>\n",
       "      <th>id</th>\n",
       "      <th>book_id</th>\n",
       "      <th>best_book_id</th>\n",
       "      <th>work_id</th>\n",
       "      <th>books_count</th>\n",
       "      <th>isbn</th>\n",
       "      <th>isbn13</th>\n",
       "      <th>authors</th>\n",
       "      <th>original_publication_year</th>\n",
       "      <th>original_title</th>\n",
       "      <th>...</th>\n",
       "      <th>ratings_count</th>\n",
       "      <th>work_ratings_count</th>\n",
       "      <th>work_text_reviews_count</th>\n",
       "      <th>ratings_1</th>\n",
       "      <th>ratings_2</th>\n",
       "      <th>ratings_3</th>\n",
       "      <th>ratings_4</th>\n",
       "      <th>ratings_5</th>\n",
       "      <th>image_url</th>\n",
       "      <th>small_image_url</th>\n",
       "    </tr>\n",
       "  </thead>\n",
       "  <tbody>\n",
       "    <tr>\n",
       "      <th>0</th>\n",
       "      <td>1</td>\n",
       "      <td>2767052</td>\n",
       "      <td>2767052</td>\n",
       "      <td>2792775</td>\n",
       "      <td>272</td>\n",
       "      <td>439023483</td>\n",
       "      <td>9.780439e+12</td>\n",
       "      <td>Suzanne Collins</td>\n",
       "      <td>2008.0</td>\n",
       "      <td>The Hunger Games</td>\n",
       "      <td>...</td>\n",
       "      <td>4780653</td>\n",
       "      <td>4942365</td>\n",
       "      <td>155254</td>\n",
       "      <td>66715</td>\n",
       "      <td>127936</td>\n",
       "      <td>560092</td>\n",
       "      <td>1481305</td>\n",
       "      <td>2706317</td>\n",
       "      <td>https://images.gr-assets.com/books/1447303603m...</td>\n",
       "      <td>https://images.gr-assets.com/books/1447303603s...</td>\n",
       "    </tr>\n",
       "    <tr>\n",
       "      <th>1</th>\n",
       "      <td>2</td>\n",
       "      <td>3</td>\n",
       "      <td>3</td>\n",
       "      <td>4640799</td>\n",
       "      <td>491</td>\n",
       "      <td>439554934</td>\n",
       "      <td>9.780440e+12</td>\n",
       "      <td>J.K. Rowling, Mary GrandPré</td>\n",
       "      <td>1997.0</td>\n",
       "      <td>Harry Potter and the Philosopher's Stone</td>\n",
       "      <td>...</td>\n",
       "      <td>4602479</td>\n",
       "      <td>4800065</td>\n",
       "      <td>75867</td>\n",
       "      <td>75504</td>\n",
       "      <td>101676</td>\n",
       "      <td>455024</td>\n",
       "      <td>1156318</td>\n",
       "      <td>3011543</td>\n",
       "      <td>https://images.gr-assets.com/books/1474154022m...</td>\n",
       "      <td>https://images.gr-assets.com/books/1474154022s...</td>\n",
       "    </tr>\n",
       "    <tr>\n",
       "      <th>2</th>\n",
       "      <td>3</td>\n",
       "      <td>41865</td>\n",
       "      <td>41865</td>\n",
       "      <td>3212258</td>\n",
       "      <td>226</td>\n",
       "      <td>316015849</td>\n",
       "      <td>9.780316e+12</td>\n",
       "      <td>Stephenie Meyer</td>\n",
       "      <td>2005.0</td>\n",
       "      <td>Twilight</td>\n",
       "      <td>...</td>\n",
       "      <td>3866839</td>\n",
       "      <td>3916824</td>\n",
       "      <td>95009</td>\n",
       "      <td>456191</td>\n",
       "      <td>436802</td>\n",
       "      <td>793319</td>\n",
       "      <td>875073</td>\n",
       "      <td>1355439</td>\n",
       "      <td>https://images.gr-assets.com/books/1361039443m...</td>\n",
       "      <td>https://images.gr-assets.com/books/1361039443s...</td>\n",
       "    </tr>\n",
       "    <tr>\n",
       "      <th>3</th>\n",
       "      <td>4</td>\n",
       "      <td>2657</td>\n",
       "      <td>2657</td>\n",
       "      <td>3275794</td>\n",
       "      <td>487</td>\n",
       "      <td>61120081</td>\n",
       "      <td>9.780061e+12</td>\n",
       "      <td>Harper Lee</td>\n",
       "      <td>1960.0</td>\n",
       "      <td>To Kill a Mockingbird</td>\n",
       "      <td>...</td>\n",
       "      <td>3198671</td>\n",
       "      <td>3340896</td>\n",
       "      <td>72586</td>\n",
       "      <td>60427</td>\n",
       "      <td>117415</td>\n",
       "      <td>446835</td>\n",
       "      <td>1001952</td>\n",
       "      <td>1714267</td>\n",
       "      <td>https://images.gr-assets.com/books/1361975680m...</td>\n",
       "      <td>https://images.gr-assets.com/books/1361975680s...</td>\n",
       "    </tr>\n",
       "    <tr>\n",
       "      <th>4</th>\n",
       "      <td>5</td>\n",
       "      <td>4671</td>\n",
       "      <td>4671</td>\n",
       "      <td>245494</td>\n",
       "      <td>1356</td>\n",
       "      <td>743273567</td>\n",
       "      <td>9.780743e+12</td>\n",
       "      <td>F. Scott Fitzgerald</td>\n",
       "      <td>1925.0</td>\n",
       "      <td>The Great Gatsby</td>\n",
       "      <td>...</td>\n",
       "      <td>2683664</td>\n",
       "      <td>2773745</td>\n",
       "      <td>51992</td>\n",
       "      <td>86236</td>\n",
       "      <td>197621</td>\n",
       "      <td>606158</td>\n",
       "      <td>936012</td>\n",
       "      <td>947718</td>\n",
       "      <td>https://images.gr-assets.com/books/1490528560m...</td>\n",
       "      <td>https://images.gr-assets.com/books/1490528560s...</td>\n",
       "    </tr>\n",
       "  </tbody>\n",
       "</table>\n",
       "<p>5 rows × 23 columns</p>\n",
       "</div>"
      ],
      "text/plain": [
       "   id  book_id  best_book_id  work_id  books_count       isbn        isbn13  \\\n",
       "0   1  2767052       2767052  2792775          272  439023483  9.780439e+12   \n",
       "1   2        3             3  4640799          491  439554934  9.780440e+12   \n",
       "2   3    41865         41865  3212258          226  316015849  9.780316e+12   \n",
       "3   4     2657          2657  3275794          487   61120081  9.780061e+12   \n",
       "4   5     4671          4671   245494         1356  743273567  9.780743e+12   \n",
       "\n",
       "                       authors  original_publication_year  \\\n",
       "0              Suzanne Collins                     2008.0   \n",
       "1  J.K. Rowling, Mary GrandPré                     1997.0   \n",
       "2              Stephenie Meyer                     2005.0   \n",
       "3                   Harper Lee                     1960.0   \n",
       "4          F. Scott Fitzgerald                     1925.0   \n",
       "\n",
       "                             original_title  \\\n",
       "0                          The Hunger Games   \n",
       "1  Harry Potter and the Philosopher's Stone   \n",
       "2                                  Twilight   \n",
       "3                     To Kill a Mockingbird   \n",
       "4                          The Great Gatsby   \n",
       "\n",
       "                         ...                         ratings_count  \\\n",
       "0                        ...                               4780653   \n",
       "1                        ...                               4602479   \n",
       "2                        ...                               3866839   \n",
       "3                        ...                               3198671   \n",
       "4                        ...                               2683664   \n",
       "\n",
       "  work_ratings_count  work_text_reviews_count  ratings_1  ratings_2  \\\n",
       "0            4942365                   155254      66715     127936   \n",
       "1            4800065                    75867      75504     101676   \n",
       "2            3916824                    95009     456191     436802   \n",
       "3            3340896                    72586      60427     117415   \n",
       "4            2773745                    51992      86236     197621   \n",
       "\n",
       "   ratings_3  ratings_4  ratings_5  \\\n",
       "0     560092    1481305    2706317   \n",
       "1     455024    1156318    3011543   \n",
       "2     793319     875073    1355439   \n",
       "3     446835    1001952    1714267   \n",
       "4     606158     936012     947718   \n",
       "\n",
       "                                           image_url  \\\n",
       "0  https://images.gr-assets.com/books/1447303603m...   \n",
       "1  https://images.gr-assets.com/books/1474154022m...   \n",
       "2  https://images.gr-assets.com/books/1361039443m...   \n",
       "3  https://images.gr-assets.com/books/1361975680m...   \n",
       "4  https://images.gr-assets.com/books/1490528560m...   \n",
       "\n",
       "                                     small_image_url  \n",
       "0  https://images.gr-assets.com/books/1447303603s...  \n",
       "1  https://images.gr-assets.com/books/1474154022s...  \n",
       "2  https://images.gr-assets.com/books/1361039443s...  \n",
       "3  https://images.gr-assets.com/books/1361975680s...  \n",
       "4  https://images.gr-assets.com/books/1490528560s...  \n",
       "\n",
       "[5 rows x 23 columns]"
      ]
     },
     "execution_count": 13,
     "metadata": {},
     "output_type": "execute_result"
    }
   ],
   "source": [
    "books.head()"
   ]
  },
  {
   "cell_type": "code",
   "execution_count": 14,
   "metadata": {
    "collapsed": false
   },
   "outputs": [
    {
     "data": {
      "text/html": [
       "<div>\n",
       "<table border=\"1\" class=\"dataframe\">\n",
       "  <thead>\n",
       "    <tr style=\"text-align: right;\">\n",
       "      <th></th>\n",
       "      <th>book_id</th>\n",
       "      <th>user_id</th>\n",
       "      <th>rating</th>\n",
       "    </tr>\n",
       "  </thead>\n",
       "  <tbody>\n",
       "    <tr>\n",
       "      <th>0</th>\n",
       "      <td>1</td>\n",
       "      <td>314</td>\n",
       "      <td>5</td>\n",
       "    </tr>\n",
       "    <tr>\n",
       "      <th>1</th>\n",
       "      <td>1</td>\n",
       "      <td>439</td>\n",
       "      <td>3</td>\n",
       "    </tr>\n",
       "    <tr>\n",
       "      <th>2</th>\n",
       "      <td>1</td>\n",
       "      <td>588</td>\n",
       "      <td>5</td>\n",
       "    </tr>\n",
       "    <tr>\n",
       "      <th>3</th>\n",
       "      <td>1</td>\n",
       "      <td>1169</td>\n",
       "      <td>4</td>\n",
       "    </tr>\n",
       "    <tr>\n",
       "      <th>4</th>\n",
       "      <td>1</td>\n",
       "      <td>1185</td>\n",
       "      <td>4</td>\n",
       "    </tr>\n",
       "  </tbody>\n",
       "</table>\n",
       "</div>"
      ],
      "text/plain": [
       "   book_id  user_id  rating\n",
       "0        1      314       5\n",
       "1        1      439       3\n",
       "2        1      588       5\n",
       "3        1     1169       4\n",
       "4        1     1185       4"
      ]
     },
     "execution_count": 14,
     "metadata": {},
     "output_type": "execute_result"
    }
   ],
   "source": [
    "ratings.head()"
   ]
  },
  {
   "cell_type": "code",
   "execution_count": 15,
   "metadata": {
    "collapsed": false
   },
   "outputs": [
    {
     "data": {
      "text/html": [
       "<div>\n",
       "<table border=\"1\" class=\"dataframe\">\n",
       "  <thead>\n",
       "    <tr style=\"text-align: right;\">\n",
       "      <th></th>\n",
       "      <th>user_id</th>\n",
       "      <th>book_id</th>\n",
       "    </tr>\n",
       "  </thead>\n",
       "  <tbody>\n",
       "    <tr>\n",
       "      <th>0</th>\n",
       "      <td>1</td>\n",
       "      <td>112</td>\n",
       "    </tr>\n",
       "    <tr>\n",
       "      <th>1</th>\n",
       "      <td>1</td>\n",
       "      <td>235</td>\n",
       "    </tr>\n",
       "    <tr>\n",
       "      <th>2</th>\n",
       "      <td>1</td>\n",
       "      <td>533</td>\n",
       "    </tr>\n",
       "    <tr>\n",
       "      <th>3</th>\n",
       "      <td>1</td>\n",
       "      <td>1198</td>\n",
       "    </tr>\n",
       "    <tr>\n",
       "      <th>4</th>\n",
       "      <td>1</td>\n",
       "      <td>1874</td>\n",
       "    </tr>\n",
       "  </tbody>\n",
       "</table>\n",
       "</div>"
      ],
      "text/plain": [
       "   user_id  book_id\n",
       "0        1      112\n",
       "1        1      235\n",
       "2        1      533\n",
       "3        1     1198\n",
       "4        1     1874"
      ]
     },
     "execution_count": 15,
     "metadata": {},
     "output_type": "execute_result"
    }
   ],
   "source": [
    "to_read.head()"
   ]
  },
  {
   "cell_type": "code",
   "execution_count": 21,
   "metadata": {
    "collapsed": false
   },
   "outputs": [
    {
     "data": {
      "text/plain": [
       "<pandas.core.groupby.DataFrameGroupBy object at 0x1125f6710>"
      ]
     },
     "execution_count": 21,
     "metadata": {},
     "output_type": "execute_result"
    }
   ],
   "source": [
    "year_groups = books.groupby('original_publication_year')\n",
    "year_groups"
   ]
  },
  {
   "cell_type": "code",
   "execution_count": 30,
   "metadata": {
    "collapsed": false
   },
   "outputs": [
    {
     "data": {
      "text/plain": [
       "<matplotlib.axes._subplots.AxesSubplot at 0x115438908>"
      ]
     },
     "execution_count": 30,
     "metadata": {},
     "output_type": "execute_result"
    },
    {
     "data": {
      "image/png": "[encoded data removed]",
      "text/plain": [
       "<matplotlib.figure.Figure at 0x11543bb00>"
      ]
     },
     "metadata": {},
     "output_type": "display_data"
    }
   ],
   "source": [
    "average_rating_over_time = year_groups.average_rating.mean()\n",
    "average_rating_over_time.plot()"
   ]
  },
  {
   "cell_type": "code",
   "execution_count": 55,
   "metadata": {
    "collapsed": false
   },
   "outputs": [
    {
     "data": {
      "text/plain": [
       "<matplotlib.axes._subplots.AxesSubplot at 0x11546d6d8>"
      ]
     },
     "execution_count": 55,
     "metadata": {},
     "output_type": "execute_result"
    },
    {
     "data": {
      "image/png": "[encoded data removed]",
      "text/plain": [
       "<matplotlib.figure.Figure at 0x1154607b8>"
      ]
     },
     "metadata": {},
     "output_type": "display_data"
    }
   ],
   "source": [
    "average_rating_over_time_1500 = average_rating_over_time.where(average_rating_over_time.keys() > 1500).dropna()\n",
    "average_rating_over_time_1500.plot()"
   ]
  },
  {
   "cell_type": "code",
   "execution_count": 56,
   "metadata": {
    "collapsed": false
   },
   "outputs": [
    {
     "data": {
      "text/plain": [
       "<matplotlib.axes._subplots.AxesSubplot at 0x115b3bc18>"
      ]
     },
     "execution_count": 56,
     "metadata": {},
     "output_type": "execute_result"
    },
    {
     "data": {
      "image/png": "[encoded data removed]",
      "text/plain": [
       "<matplotlib.figure.Figure at 0x115b22cc0>"
      ]
     },
     "metadata": {},
     "output_type": "display_data"
    }
   ],
   "source": [
    "average_rating_over_time_1950 = average_rating_over_time.where(average_rating_over_time.keys() >= 1950).dropna()\n",
    "average_rating_over_time_1950.plot()"
   ]
  },
  {
   "cell_type": "code",
   "execution_count": 59,
   "metadata": {
    "collapsed": false
   },
   "outputs": [
    {
     "data": {
      "text/plain": [
       "<matplotlib.axes._subplots.AxesSubplot at 0x1177ca9b0>"
      ]
     },
     "execution_count": 59,
     "metadata": {},
     "output_type": "execute_result"
    },
    {
     "data": {
      "image/png": "[encoded data removed]",
      "text/plain": [
       "<matplotlib.figure.Figure at 0x1177da320>"
      ]
     },
     "metadata": {},
     "output_type": "display_data"
    }
   ],
   "source": [
    "# is volatility due to how many people have actually rated?\n",
    "# there are probably more ratings in recent times.\n",
    "reading_over_time = year_groups.ratings_count.sum()\n",
    "reading_over_time_1950 = reading_over_time.where(reading_over_time.keys() > 1950).dropna()\n",
    "reading_over_time_1950.plot()"
   ]
  },
  {
   "cell_type": "code",
   "execution_count": 62,
   "metadata": {
    "collapsed": false
   },
   "outputs": [
    {
     "data": {
      "text/plain": [
       "((34252, 2), (999912, 3))"
      ]
     },
     "execution_count": 62,
     "metadata": {},
     "output_type": "execute_result"
    }
   ],
   "source": [
    "tags.shape, tag_counts.shape"
   ]
  },
  {
   "cell_type": "code",
   "execution_count": 104,
   "metadata": {
    "collapsed": false
   },
   "outputs": [
    {
     "data": {
      "text/html": [
       "<div>\n",
       "<table border=\"1\" class=\"dataframe\">\n",
       "  <thead>\n",
       "    <tr style=\"text-align: right;\">\n",
       "      <th></th>\n",
       "      <th>count</th>\n",
       "      <th>tag_id</th>\n",
       "      <th>tag_name</th>\n",
       "    </tr>\n",
       "  </thead>\n",
       "  <tbody>\n",
       "    <tr>\n",
       "      <th>30574</th>\n",
       "      <td>140718761</td>\n",
       "      <td>30574</td>\n",
       "      <td>to-read</td>\n",
       "    </tr>\n",
       "    <tr>\n",
       "      <th>8717</th>\n",
       "      <td>7507958</td>\n",
       "      <td>8717</td>\n",
       "      <td>currently-reading</td>\n",
       "    </tr>\n",
       "    <tr>\n",
       "      <th>11557</th>\n",
       "      <td>4503173</td>\n",
       "      <td>11557</td>\n",
       "      <td>favorites</td>\n",
       "    </tr>\n",
       "    <tr>\n",
       "      <th>11743</th>\n",
       "      <td>3688819</td>\n",
       "      <td>11743</td>\n",
       "      <td>fiction</td>\n",
       "    </tr>\n",
       "    <tr>\n",
       "      <th>11305</th>\n",
       "      <td>3548157</td>\n",
       "      <td>11305</td>\n",
       "      <td>fantasy</td>\n",
       "    </tr>\n",
       "    <tr>\n",
       "      <th>33114</th>\n",
       "      <td>1848306</td>\n",
       "      <td>33114</td>\n",
       "      <td>young-adult</td>\n",
       "    </tr>\n",
       "    <tr>\n",
       "      <th>7457</th>\n",
       "      <td>1756920</td>\n",
       "      <td>7457</td>\n",
       "      <td>classics</td>\n",
       "    </tr>\n",
       "    <tr>\n",
       "      <th>5207</th>\n",
       "      <td>1317235</td>\n",
       "      <td>5207</td>\n",
       "      <td>books-i-own</td>\n",
       "    </tr>\n",
       "    <tr>\n",
       "      <th>26138</th>\n",
       "      <td>1231926</td>\n",
       "      <td>26138</td>\n",
       "      <td>romance</td>\n",
       "    </tr>\n",
       "    <tr>\n",
       "      <th>22743</th>\n",
       "      <td>1224279</td>\n",
       "      <td>22743</td>\n",
       "      <td>owned</td>\n",
       "    </tr>\n",
       "  </tbody>\n",
       "</table>\n",
       "</div>"
      ],
      "text/plain": [
       "           count  tag_id           tag_name\n",
       "30574  140718761   30574            to-read\n",
       "8717     7507958    8717  currently-reading\n",
       "11557    4503173   11557          favorites\n",
       "11743    3688819   11743            fiction\n",
       "11305    3548157   11305            fantasy\n",
       "33114    1848306   33114        young-adult\n",
       "7457     1756920    7457           classics\n",
       "5207     1317235    5207        books-i-own\n",
       "26138    1231926   26138            romance\n",
       "22743    1224279   22743              owned"
      ]
     },
     "execution_count": 104,
     "metadata": {},
     "output_type": "execute_result"
    }
   ],
   "source": [
    "# what are the most popular tags? \n",
    "tag_data = pd.merge(tags, tag_counts, on='tag_id').groupby('tag_id').sum()\n",
    "tag_data.drop(['goodreads_book_id'], axis=1, inplace=True)\n",
    "tag_data = pd.merge(tag_data, tags, left_index=True, right_on='tag_id')\n",
    "sorted_tag_data = tag_data.sort_values(['count'], ascending=False)\n",
    "\n",
    "# people are aspirational by 2 orders of magnitude more than they are productive\n",
    "sorted_tag_data.head(10)"
   ]
  },
  {
   "cell_type": "code",
   "execution_count": 127,
   "metadata": {
    "collapsed": false
   },
   "outputs": [
    {
     "data": {
      "text/plain": [
       "<matplotlib.axes._subplots.AxesSubplot at 0x133fc95c0>"
      ]
     },
     "execution_count": 127,
     "metadata": {},
     "output_type": "execute_result"
    },
    {
     "data": {
      "image/png": "[encoded data removed]",
      "text/plain": [
       "<matplotlib.figure.Figure at 0x1340ed860>"
      ]
     },
     "metadata": {},
     "output_type": "display_data"
    }
   ],
   "source": [
    "# published books over time (after 1900)\n",
    "books[books.original_publication_year > 1900].original_publication_year.hist(bins=50)"
   ]
  },
  {
   "cell_type": "code",
   "execution_count": 164,
   "metadata": {
    "collapsed": false
   },
   "outputs": [
    {
     "data": {
      "text/html": [
       "<div>\n",
       "<table border=\"1\" class=\"dataframe\">\n",
       "  <thead>\n",
       "    <tr style=\"text-align: right;\">\n",
       "      <th></th>\n",
       "      <th>count</th>\n",
       "      <th>book_id</th>\n",
       "      <th>tag_name</th>\n",
       "    </tr>\n",
       "  </thead>\n",
       "  <tbody>\n",
       "    <tr>\n",
       "      <th>0</th>\n",
       "      <td>167697</td>\n",
       "      <td>1</td>\n",
       "      <td>to-read</td>\n",
       "    </tr>\n",
       "    <tr>\n",
       "      <th>1</th>\n",
       "      <td>24549</td>\n",
       "      <td>2</td>\n",
       "      <td>to-read</td>\n",
       "    </tr>\n",
       "    <tr>\n",
       "      <th>2</th>\n",
       "      <td>496107</td>\n",
       "      <td>3</td>\n",
       "      <td>to-read</td>\n",
       "    </tr>\n",
       "    <tr>\n",
       "      <th>3</th>\n",
       "      <td>11909</td>\n",
       "      <td>5</td>\n",
       "      <td>to-read</td>\n",
       "    </tr>\n",
       "    <tr>\n",
       "      <th>4</th>\n",
       "      <td>298</td>\n",
       "      <td>6</td>\n",
       "      <td>to-read</td>\n",
       "    </tr>\n",
       "  </tbody>\n",
       "</table>\n",
       "</div>"
      ],
      "text/plain": [
       "    count  book_id tag_name\n",
       "0  167697        1  to-read\n",
       "1   24549        2  to-read\n",
       "2  496107        3  to-read\n",
       "3   11909        5  to-read\n",
       "4     298        6  to-read"
      ]
     },
     "execution_count": 164,
     "metadata": {},
     "output_type": "execute_result"
    }
   ],
   "source": [
    "# average rating of each of the top categories?\n",
    "tag_names = tag_counts.copy()\n",
    "tag_names['book_id'] = tag_names.goodreads_book_id\n",
    "tag_names = pd.merge(tag_names, tags, on='tag_id')\n",
    "tag_names.drop(['goodreads_book_id', 'tag_id'], axis=1, inplace=True)\n",
    "tag_names.head()"
   ]
  },
  {
   "cell_type": "code",
   "execution_count": 182,
   "metadata": {
    "collapsed": false
   },
   "outputs": [
    {
     "data": {
      "text/html": [
       "<div>\n",
       "<table border=\"1\" class=\"dataframe\">\n",
       "  <thead>\n",
       "    <tr style=\"text-align: right;\">\n",
       "      <th></th>\n",
       "      <th>average_rating</th>\n",
       "    </tr>\n",
       "    <tr>\n",
       "      <th>tag_name</th>\n",
       "      <th></th>\n",
       "    </tr>\n",
       "  </thead>\n",
       "  <tbody>\n",
       "    <tr>\n",
       "      <th>to-read</th>\n",
       "      <td>9983</td>\n",
       "    </tr>\n",
       "    <tr>\n",
       "      <th>favorites</th>\n",
       "      <td>9881</td>\n",
       "    </tr>\n",
       "    <tr>\n",
       "      <th>owned</th>\n",
       "      <td>9858</td>\n",
       "    </tr>\n",
       "    <tr>\n",
       "      <th>books-i-own</th>\n",
       "      <td>9799</td>\n",
       "    </tr>\n",
       "    <tr>\n",
       "      <th>currently-reading</th>\n",
       "      <td>9776</td>\n",
       "    </tr>\n",
       "    <tr>\n",
       "      <th>library</th>\n",
       "      <td>9415</td>\n",
       "    </tr>\n",
       "    <tr>\n",
       "      <th>owned-books</th>\n",
       "      <td>9221</td>\n",
       "    </tr>\n",
       "    <tr>\n",
       "      <th>fiction</th>\n",
       "      <td>9097</td>\n",
       "    </tr>\n",
       "    <tr>\n",
       "      <th>to-buy</th>\n",
       "      <td>8692</td>\n",
       "    </tr>\n",
       "    <tr>\n",
       "      <th>kindle</th>\n",
       "      <td>8316</td>\n",
       "    </tr>\n",
       "    <tr>\n",
       "      <th>default</th>\n",
       "      <td>8239</td>\n",
       "    </tr>\n",
       "    <tr>\n",
       "      <th>ebook</th>\n",
       "      <td>8054</td>\n",
       "    </tr>\n",
       "    <tr>\n",
       "      <th>my-books</th>\n",
       "      <td>7561</td>\n",
       "    </tr>\n",
       "    <tr>\n",
       "      <th>audiobook</th>\n",
       "      <td>7242</td>\n",
       "    </tr>\n",
       "    <tr>\n",
       "      <th>ebooks</th>\n",
       "      <td>7203</td>\n",
       "    </tr>\n",
       "    <tr>\n",
       "      <th>wish-list</th>\n",
       "      <td>7192</td>\n",
       "    </tr>\n",
       "    <tr>\n",
       "      <th>my-library</th>\n",
       "      <td>7000</td>\n",
       "    </tr>\n",
       "    <tr>\n",
       "      <th>audiobooks</th>\n",
       "      <td>6862</td>\n",
       "    </tr>\n",
       "    <tr>\n",
       "      <th>i-own</th>\n",
       "      <td>6670</td>\n",
       "    </tr>\n",
       "    <tr>\n",
       "      <th>adult</th>\n",
       "      <td>6604</td>\n",
       "    </tr>\n",
       "    <tr>\n",
       "      <th>audio</th>\n",
       "      <td>6548</td>\n",
       "    </tr>\n",
       "    <tr>\n",
       "      <th>favourites</th>\n",
       "      <td>6422</td>\n",
       "    </tr>\n",
       "    <tr>\n",
       "      <th>novels</th>\n",
       "      <td>5665</td>\n",
       "    </tr>\n",
       "    <tr>\n",
       "      <th>own-it</th>\n",
       "      <td>5514</td>\n",
       "    </tr>\n",
       "    <tr>\n",
       "      <th>contemporary</th>\n",
       "      <td>5287</td>\n",
       "    </tr>\n",
       "    <tr>\n",
       "      <th>read-in-2015</th>\n",
       "      <td>5239</td>\n",
       "    </tr>\n",
       "    <tr>\n",
       "      <th>series</th>\n",
       "      <td>5080</td>\n",
       "    </tr>\n",
       "    <tr>\n",
       "      <th>e-book</th>\n",
       "      <td>4941</td>\n",
       "    </tr>\n",
       "    <tr>\n",
       "      <th>read-in-2016</th>\n",
       "      <td>4940</td>\n",
       "    </tr>\n",
       "    <tr>\n",
       "      <th>read-in-2014</th>\n",
       "      <td>4902</td>\n",
       "    </tr>\n",
       "    <tr>\n",
       "      <th>...</th>\n",
       "      <td>...</td>\n",
       "    </tr>\n",
       "    <tr>\n",
       "      <th>how-to-instructional</th>\n",
       "      <td>1</td>\n",
       "    </tr>\n",
       "    <tr>\n",
       "      <th>how-to-eat-fried-worms</th>\n",
       "      <td>1</td>\n",
       "    </tr>\n",
       "    <tr>\n",
       "      <th>how-to-diy</th>\n",
       "      <td>1</td>\n",
       "    </tr>\n",
       "    <tr>\n",
       "      <th>how-to-be-a-heroine</th>\n",
       "      <td>1</td>\n",
       "    </tr>\n",
       "    <tr>\n",
       "      <th>how-to-art</th>\n",
       "      <td>1</td>\n",
       "    </tr>\n",
       "    <tr>\n",
       "      <th>how-the-brain-works</th>\n",
       "      <td>1</td>\n",
       "    </tr>\n",
       "    <tr>\n",
       "      <th>housing</th>\n",
       "      <td>1</td>\n",
       "    </tr>\n",
       "    <tr>\n",
       "      <th>howling-trilogy-completed</th>\n",
       "      <td>1</td>\n",
       "    </tr>\n",
       "    <tr>\n",
       "      <th>hp-mallory</th>\n",
       "      <td>1</td>\n",
       "    </tr>\n",
       "    <tr>\n",
       "      <th>hughes</th>\n",
       "      <td>1</td>\n",
       "    </tr>\n",
       "    <tr>\n",
       "      <th>hub-challenge-2014</th>\n",
       "      <td>1</td>\n",
       "    </tr>\n",
       "    <tr>\n",
       "      <th>hugh-laurie</th>\n",
       "      <td>1</td>\n",
       "    </tr>\n",
       "    <tr>\n",
       "      <th>huemoore</th>\n",
       "      <td>1</td>\n",
       "    </tr>\n",
       "    <tr>\n",
       "      <th>huda</th>\n",
       "      <td>1</td>\n",
       "    </tr>\n",
       "    <tr>\n",
       "      <th>hubert</th>\n",
       "      <td>1</td>\n",
       "    </tr>\n",
       "    <tr>\n",
       "      <th>hubbard-l-ron</th>\n",
       "      <td>1</td>\n",
       "    </tr>\n",
       "    <tr>\n",
       "      <th>hubbard</th>\n",
       "      <td>1</td>\n",
       "    </tr>\n",
       "    <tr>\n",
       "      <th>hub-reading-challenge</th>\n",
       "      <td>1</td>\n",
       "    </tr>\n",
       "    <tr>\n",
       "      <th>hub-challenge-2016</th>\n",
       "      <td>1</td>\n",
       "    </tr>\n",
       "    <tr>\n",
       "      <th>hub-challenge-2013</th>\n",
       "      <td>1</td>\n",
       "    </tr>\n",
       "    <tr>\n",
       "      <th>hp-mania</th>\n",
       "      <td>1</td>\n",
       "    </tr>\n",
       "    <tr>\n",
       "      <th>httyd</th>\n",
       "      <td>1</td>\n",
       "    </tr>\n",
       "    <tr>\n",
       "      <th>hthi-library</th>\n",
       "      <td>1</td>\n",
       "    </tr>\n",
       "    <tr>\n",
       "      <th>hsp</th>\n",
       "      <td>1</td>\n",
       "    </tr>\n",
       "    <tr>\n",
       "      <th>hs-core-literature</th>\n",
       "      <td>1</td>\n",
       "    </tr>\n",
       "    <tr>\n",
       "      <th>hs</th>\n",
       "      <td>1</td>\n",
       "    </tr>\n",
       "    <tr>\n",
       "      <th>hrabal</th>\n",
       "      <td>1</td>\n",
       "    </tr>\n",
       "    <tr>\n",
       "      <th>hq-manga</th>\n",
       "      <td>1</td>\n",
       "    </tr>\n",
       "    <tr>\n",
       "      <th>hq-e-mangá</th>\n",
       "      <td>1</td>\n",
       "    </tr>\n",
       "    <tr>\n",
       "      <th>ｆａｖｏｕｒｉｔｅｓ</th>\n",
       "      <td>1</td>\n",
       "    </tr>\n",
       "  </tbody>\n",
       "</table>\n",
       "<p>34252 rows × 1 columns</p>\n",
       "</div>"
      ],
      "text/plain": [
       "                           average_rating\n",
       "tag_name                                 \n",
       "to-read                              9983\n",
       "favorites                            9881\n",
       "owned                                9858\n",
       "books-i-own                          9799\n",
       "currently-reading                    9776\n",
       "library                              9415\n",
       "owned-books                          9221\n",
       "fiction                              9097\n",
       "to-buy                               8692\n",
       "kindle                               8316\n",
       "default                              8239\n",
       "ebook                                8054\n",
       "my-books                             7561\n",
       "audiobook                            7242\n",
       "ebooks                               7203\n",
       "wish-list                            7192\n",
       "my-library                           7000\n",
       "audiobooks                           6862\n",
       "i-own                                6670\n",
       "adult                                6604\n",
       "audio                                6548\n",
       "favourites                           6422\n",
       "novels                               5665\n",
       "own-it                               5514\n",
       "contemporary                         5287\n",
       "read-in-2015                         5239\n",
       "series                               5080\n",
       "e-book                               4941\n",
       "read-in-2016                         4940\n",
       "read-in-2014                         4902\n",
       "...                                   ...\n",
       "how-to-instructional                    1\n",
       "how-to-eat-fried-worms                  1\n",
       "how-to-diy                              1\n",
       "how-to-be-a-heroine                     1\n",
       "how-to-art                              1\n",
       "how-the-brain-works                     1\n",
       "housing                                 1\n",
       "howling-trilogy-completed               1\n",
       "hp-mallory                              1\n",
       "hughes                                  1\n",
       "hub-challenge-2014                      1\n",
       "hugh-laurie                             1\n",
       "huemoore                                1\n",
       "huda                                    1\n",
       "hubert                                  1\n",
       "hubbard-l-ron                           1\n",
       "hubbard                                 1\n",
       "hub-reading-challenge                   1\n",
       "hub-challenge-2016                      1\n",
       "hub-challenge-2013                      1\n",
       "hp-mania                                1\n",
       "httyd                                   1\n",
       "hthi-library                            1\n",
       "hsp                                     1\n",
       "hs-core-literature                      1\n",
       "hs                                      1\n",
       "hrabal                                  1\n",
       "hq-manga                                1\n",
       "hq-e-mangá                              1\n",
       "ｆａｖｏｕｒｉｔｅｓ                              1\n",
       "\n",
       "[34252 rows x 1 columns]"
      ]
     },
     "execution_count": 182,
     "metadata": {},
     "output_type": "execute_result"
    }
   ],
   "source": [
    "ratings = pd.DataFrame(columns=['book_id', 'average_rating'])\n",
    "ratings.book_id = books.book_id\n",
    "ratings.average_rating = books.average_rating\n",
    "\n",
    "# count is the tag count\n",
    "tags_with_ratings = pd.merge(tag_names, ratings, on='book_id')\n",
    "tags_with_ratings.drop(['count', 'book_id'], axis=1, inplace=True)\n",
    "\n",
    "## Most popular tag based on number of books, not number of tags\n",
    "popular_tags_based_on_books = tags_with_ratings.groupby('tag_name').count().sort_values(['average_rating'], ascending=False)\n",
    "popular_tags_based_on_books"
   ]
  },
  {
   "cell_type": "code",
   "execution_count": 192,
   "metadata": {
    "collapsed": false
   },
   "outputs": [
    {
     "data": {
      "text/plain": [
       "Index(['to-read', 'favorites', 'owned', 'books-i-own', 'currently-reading',\n",
       "       'library', 'owned-books', 'fiction', 'to-buy', 'kindle',\n",
       "       ...\n",
       "       'nonfic', 'autobiography-memoir', 'space', 'award-winners',\n",
       "       'partially-read', '1001-to-read', 'werewolves', 'read-as-a-child',\n",
       "       'faith', 'guilty-pleasure'],\n",
       "      dtype='object', name='tag_name', length=500)"
      ]
     },
     "execution_count": 192,
     "metadata": {},
     "output_type": "execute_result"
    }
   ],
   "source": [
    "# average rating of most popular categories?\n",
    "top_500_categories = popular_tags_based_on_books.head(500).index\n",
    "top_500_categories"
   ]
  },
  {
   "cell_type": "code",
   "execution_count": 201,
   "metadata": {
    "collapsed": false
   },
   "outputs": [],
   "source": [
    "top_500_tags_ratings = tags_with_ratings[tags_with_ratings.tag_name.isin(top_500_categories)]\n",
    "sorted_top_rated_tags = top_500_tags_ratings.groupby(['tag_name']).mean().sort_values(['average_rating'], ascending=False)"
   ]
  },
  {
   "cell_type": "code",
   "execution_count": 202,
   "metadata": {
    "collapsed": false
   },
   "outputs": [
    {
     "data": {
      "text/html": [
       "<div>\n",
       "<table border=\"1\" class=\"dataframe\">\n",
       "  <thead>\n",
       "    <tr style=\"text-align: right;\">\n",
       "      <th></th>\n",
       "      <th>average_rating</th>\n",
       "    </tr>\n",
       "    <tr>\n",
       "      <th>tag_name</th>\n",
       "      <th></th>\n",
       "    </tr>\n",
       "  </thead>\n",
       "  <tbody>\n",
       "    <tr>\n",
       "      <th>5-star</th>\n",
       "      <td>4.269784</td>\n",
       "    </tr>\n",
       "    <tr>\n",
       "      <th>comics-manga</th>\n",
       "      <td>4.245169</td>\n",
       "    </tr>\n",
       "    <tr>\n",
       "      <th>picture-books</th>\n",
       "      <td>4.221658</td>\n",
       "    </tr>\n",
       "    <tr>\n",
       "      <th>comic-books</th>\n",
       "      <td>4.220400</td>\n",
       "    </tr>\n",
       "    <tr>\n",
       "      <th>comics-graphic-novels</th>\n",
       "      <td>4.218390</td>\n",
       "    </tr>\n",
       "    <tr>\n",
       "      <th>comics-and-graphic-novels</th>\n",
       "      <td>4.217915</td>\n",
       "    </tr>\n",
       "    <tr>\n",
       "      <th>graphic-novels-and-comics</th>\n",
       "      <td>4.217685</td>\n",
       "    </tr>\n",
       "    <tr>\n",
       "      <th>comic</th>\n",
       "      <td>4.214871</td>\n",
       "    </tr>\n",
       "    <tr>\n",
       "      <th>graphic-novels-comics</th>\n",
       "      <td>4.214269</td>\n",
       "    </tr>\n",
       "    <tr>\n",
       "      <th>picture-book</th>\n",
       "      <td>4.212656</td>\n",
       "    </tr>\n",
       "  </tbody>\n",
       "</table>\n",
       "</div>"
      ],
      "text/plain": [
       "                           average_rating\n",
       "tag_name                                 \n",
       "5-star                           4.269784\n",
       "comics-manga                     4.245169\n",
       "picture-books                    4.221658\n",
       "comic-books                      4.220400\n",
       "comics-graphic-novels            4.218390\n",
       "comics-and-graphic-novels        4.217915\n",
       "graphic-novels-and-comics        4.217685\n",
       "comic                            4.214871\n",
       "graphic-novels-comics            4.214269\n",
       "picture-book                     4.212656"
      ]
     },
     "execution_count": 202,
     "metadata": {},
     "output_type": "execute_result"
    }
   ],
   "source": [
    "sorted_top_rated_tags.head(10)"
   ]
  },
  {
   "cell_type": "code",
   "execution_count": 203,
   "metadata": {
    "collapsed": false
   },
   "outputs": [
    {
     "data": {
      "text/html": [
       "<div>\n",
       "<table border=\"1\" class=\"dataframe\">\n",
       "  <thead>\n",
       "    <tr style=\"text-align: right;\">\n",
       "      <th></th>\n",
       "      <th>average_rating</th>\n",
       "    </tr>\n",
       "    <tr>\n",
       "      <th>tag_name</th>\n",
       "      <th></th>\n",
       "    </tr>\n",
       "  </thead>\n",
       "  <tbody>\n",
       "    <tr>\n",
       "      <th>chic-lit</th>\n",
       "      <td>3.807898</td>\n",
       "    </tr>\n",
       "    <tr>\n",
       "      <th>chicklit</th>\n",
       "      <td>3.794334</td>\n",
       "    </tr>\n",
       "    <tr>\n",
       "      <th>read-in-2008</th>\n",
       "      <td>3.789487</td>\n",
       "    </tr>\n",
       "    <tr>\n",
       "      <th>stopped-reading</th>\n",
       "      <td>3.789331</td>\n",
       "    </tr>\n",
       "    <tr>\n",
       "      <th>gave-up-on</th>\n",
       "      <td>3.781078</td>\n",
       "    </tr>\n",
       "    <tr>\n",
       "      <th>womens-fiction</th>\n",
       "      <td>3.776495</td>\n",
       "    </tr>\n",
       "    <tr>\n",
       "      <th>women-s-fiction</th>\n",
       "      <td>3.769772</td>\n",
       "    </tr>\n",
       "    <tr>\n",
       "      <th>couldn-t-finish</th>\n",
       "      <td>3.750403</td>\n",
       "    </tr>\n",
       "    <tr>\n",
       "      <th>gave-up</th>\n",
       "      <td>3.730121</td>\n",
       "    </tr>\n",
       "    <tr>\n",
       "      <th>could-not-finish</th>\n",
       "      <td>3.684465</td>\n",
       "    </tr>\n",
       "  </tbody>\n",
       "</table>\n",
       "</div>"
      ],
      "text/plain": [
       "                  average_rating\n",
       "tag_name                        \n",
       "chic-lit                3.807898\n",
       "chicklit                3.794334\n",
       "read-in-2008            3.789487\n",
       "stopped-reading         3.789331\n",
       "gave-up-on              3.781078\n",
       "womens-fiction          3.776495\n",
       "women-s-fiction         3.769772\n",
       "couldn-t-finish         3.750403\n",
       "gave-up                 3.730121\n",
       "could-not-finish        3.684465"
      ]
     },
     "execution_count": 203,
     "metadata": {},
     "output_type": "execute_result"
    }
   ],
   "source": [
    "sorted_top_rated_tags.tail(10)"
   ]
  },
  {
   "cell_type": "code",
   "execution_count": 247,
   "metadata": {
    "collapsed": false
   },
   "outputs": [],
   "source": [
    "user_ratings = pd.read_csv('ratings.csv')\n",
    "user_ratings_and_books = pd.merge(user_ratings, books, on='book_id')\n",
    "user_network_data = pd.DataFrame(columns=['book', 'user_id', 'rating'])\n",
    "user_network_data.book = user_ratings_and_books.original_title\n",
    "user_network_data.user_id = user_ratings_and_books.user_id\n",
    "user_network_data.rating = user_ratings_and_books.rating"
   ]
  },
  {
   "cell_type": "code",
   "execution_count": 248,
   "metadata": {
    "collapsed": false
   },
   "outputs": [
    {
     "data": {
      "text/html": [
       "<div>\n",
       "<table border=\"1\" class=\"dataframe\">\n",
       "  <thead>\n",
       "    <tr style=\"text-align: right;\">\n",
       "      <th></th>\n",
       "      <th>user_id</th>\n",
       "      <th>rating</th>\n",
       "    </tr>\n",
       "    <tr>\n",
       "      <th>book</th>\n",
       "      <th></th>\n",
       "      <th></th>\n",
       "    </tr>\n",
       "  </thead>\n",
       "  <tbody>\n",
       "    <tr>\n",
       "      <th>Still Life with Woodpecker</th>\n",
       "      <td>16439.313131</td>\n",
       "      <td>4.777778</td>\n",
       "    </tr>\n",
       "    <tr>\n",
       "      <th>The Beautiful and Damned</th>\n",
       "      <td>27160.370000</td>\n",
       "      <td>4.660000</td>\n",
       "    </tr>\n",
       "    <tr>\n",
       "      <th>Villa Incognito</th>\n",
       "      <td>29339.969072</td>\n",
       "      <td>4.618557</td>\n",
       "    </tr>\n",
       "    <tr>\n",
       "      <th>Peter and the Shadow Thieves</th>\n",
       "      <td>30165.500000</td>\n",
       "      <td>4.557143</td>\n",
       "    </tr>\n",
       "    <tr>\n",
       "      <th>The Taste of Home Cookbook</th>\n",
       "      <td>25043.130000</td>\n",
       "      <td>4.550000</td>\n",
       "    </tr>\n",
       "  </tbody>\n",
       "</table>\n",
       "</div>"
      ],
      "text/plain": [
       "                                   user_id    rating\n",
       "book                                                \n",
       "Still Life with Woodpecker    16439.313131  4.777778\n",
       "The Beautiful and Damned      27160.370000  4.660000\n",
       "Villa Incognito               29339.969072  4.618557\n",
       "Peter and the Shadow Thieves  30165.500000  4.557143\n",
       "The Taste of Home Cookbook    25043.130000  4.550000"
      ]
     },
     "execution_count": 248,
     "metadata": {},
     "output_type": "execute_result"
    }
   ],
   "source": [
    "# this sample isn't the most accurate representation of what's on the goodreads website\n",
    "# for ex: still life has 4.04 from 60k ratings but a 4.78 on here with 100 ratings\n",
    "sorted_books = user_network_data.groupby('book').mean().sort_values(['rating'], ascending=False)\n",
    "sorted_books.head()"
   ]
  },
  {
   "cell_type": "code",
   "execution_count": 249,
   "metadata": {
    "collapsed": false
   },
   "outputs": [
    {
     "data": {
      "text/html": [
       "<div>\n",
       "<table border=\"1\" class=\"dataframe\">\n",
       "  <thead>\n",
       "    <tr style=\"text-align: right;\">\n",
       "      <th></th>\n",
       "      <th>user_id</th>\n",
       "      <th>rating</th>\n",
       "    </tr>\n",
       "    <tr>\n",
       "      <th>book</th>\n",
       "      <th></th>\n",
       "      <th></th>\n",
       "    </tr>\n",
       "  </thead>\n",
       "  <tbody>\n",
       "    <tr>\n",
       "      <th>The Woman in White</th>\n",
       "      <td>22867.17</td>\n",
       "      <td>2.88</td>\n",
       "    </tr>\n",
       "    <tr>\n",
       "      <th>The Chamber</th>\n",
       "      <td>16083.36</td>\n",
       "      <td>2.88</td>\n",
       "    </tr>\n",
       "    <tr>\n",
       "      <th>The Pearls of Lutra</th>\n",
       "      <td>22194.70</td>\n",
       "      <td>2.80</td>\n",
       "    </tr>\n",
       "    <tr>\n",
       "      <th>The Fellowship of the Ring</th>\n",
       "      <td>30932.33</td>\n",
       "      <td>2.77</td>\n",
       "    </tr>\n",
       "    <tr>\n",
       "      <th>Nine Stories</th>\n",
       "      <td>16445.05</td>\n",
       "      <td>2.53</td>\n",
       "    </tr>\n",
       "  </tbody>\n",
       "</table>\n",
       "</div>"
      ],
      "text/plain": [
       "                              user_id  rating\n",
       "book                                         \n",
       "The Woman in White           22867.17    2.88\n",
       "The Chamber                  16083.36    2.88\n",
       "The Pearls of Lutra          22194.70    2.80\n",
       " The Fellowship of the Ring  30932.33    2.77\n",
       "Nine Stories                 16445.05    2.53"
      ]
     },
     "execution_count": 249,
     "metadata": {},
     "output_type": "execute_result"
    }
   ],
   "source": [
    "sorted_books.tail()"
   ]
  },
  {
   "cell_type": "code",
   "execution_count": 250,
   "metadata": {
    "collapsed": true
   },
   "outputs": [],
   "source": [
    "def check(book):\n",
    "    return user_network_data[user_network_data.book == book].rating.mean()"
   ]
  },
  {
   "cell_type": "code",
   "execution_count": 251,
   "metadata": {
    "collapsed": false
   },
   "outputs": [
    {
     "data": {
      "text/plain": [
       "3.3"
      ]
     },
     "execution_count": 251,
     "metadata": {},
     "output_type": "execute_result"
    }
   ],
   "source": [
    "check(\"A Supposedly Fun Thing I'll Never Do Again: Essays and Arguments\")"
   ]
  },
  {
   "cell_type": "code",
   "execution_count": 253,
   "metadata": {
    "collapsed": false
   },
   "outputs": [
    {
     "data": {
      "text/plain": [
       "4.24"
      ]
     },
     "execution_count": 253,
     "metadata": {},
     "output_type": "execute_result"
    }
   ],
   "source": [
    "check(\"Harry Potter and the Half-Blood Prince\")"
   ]
  },
  {
   "cell_type": "code",
   "execution_count": 254,
   "metadata": {
    "collapsed": false
   },
   "outputs": [
    {
     "data": {
      "text/plain": [
       "(79701, 3)"
      ]
     },
     "execution_count": 254,
     "metadata": {},
     "output_type": "execute_result"
    }
   ],
   "source": [
    "user_network_data.shape"
   ]
  },
  {
   "cell_type": "code",
   "execution_count": 255,
   "metadata": {
    "collapsed": false
   },
   "outputs": [
    {
     "data": {
      "text/html": [
       "<div>\n",
       "<table border=\"1\" class=\"dataframe\">\n",
       "  <thead>\n",
       "    <tr style=\"text-align: right;\">\n",
       "      <th></th>\n",
       "      <th>book</th>\n",
       "      <th>user_id</th>\n",
       "      <th>rating</th>\n",
       "    </tr>\n",
       "  </thead>\n",
       "  <tbody>\n",
       "    <tr>\n",
       "      <th>0</th>\n",
       "      <td>Harry Potter and the Half-Blood Prince</td>\n",
       "      <td>314</td>\n",
       "      <td>5</td>\n",
       "    </tr>\n",
       "    <tr>\n",
       "      <th>1</th>\n",
       "      <td>Harry Potter and the Half-Blood Prince</td>\n",
       "      <td>439</td>\n",
       "      <td>3</td>\n",
       "    </tr>\n",
       "    <tr>\n",
       "      <th>2</th>\n",
       "      <td>Harry Potter and the Half-Blood Prince</td>\n",
       "      <td>588</td>\n",
       "      <td>5</td>\n",
       "    </tr>\n",
       "    <tr>\n",
       "      <th>3</th>\n",
       "      <td>Harry Potter and the Half-Blood Prince</td>\n",
       "      <td>1169</td>\n",
       "      <td>4</td>\n",
       "    </tr>\n",
       "    <tr>\n",
       "      <th>4</th>\n",
       "      <td>Harry Potter and the Half-Blood Prince</td>\n",
       "      <td>1185</td>\n",
       "      <td>4</td>\n",
       "    </tr>\n",
       "  </tbody>\n",
       "</table>\n",
       "</div>"
      ],
      "text/plain": [
       "                                     book  user_id  rating\n",
       "0  Harry Potter and the Half-Blood Prince      314       5\n",
       "1  Harry Potter and the Half-Blood Prince      439       3\n",
       "2  Harry Potter and the Half-Blood Prince      588       5\n",
       "3  Harry Potter and the Half-Blood Prince     1169       4\n",
       "4  Harry Potter and the Half-Blood Prince     1185       4"
      ]
     },
     "execution_count": 255,
     "metadata": {},
     "output_type": "execute_result"
    }
   ],
   "source": [
    "user_network_data.head()"
   ]
  },
  {
   "cell_type": "code",
   "execution_count": 256,
   "metadata": {
    "collapsed": true
   },
   "outputs": [],
   "source": [
    "user_network_data.to_json('user_network_data.json')"
   ]
  },
  {
   "cell_type": "code",
   "execution_count": 279,
   "metadata": {
    "collapsed": false
   },
   "outputs": [
    {
     "data": {
      "text/plain": [
       "((999912, 27), (10000, 23), (999912, 4))"
      ]
     },
     "execution_count": 279,
     "metadata": {},
     "output_type": "execute_result"
    }
   ],
   "source": [
    "# Network based on tags shared between books\n",
    "book_tags = pd.read_csv('book_tags.csv')\n",
    "book_tags['book_id'] = book_tags.goodreads_book_id\n",
    "books_with_tags = pd.merge(pd.merge(book_tags, books, on='book_id'), tags, on='tag_id')\n",
    "\n",
    "books_with_tags.shape, books.shape, book_tags.shape"
   ]
  },
  {
   "cell_type": "code",
   "execution_count": 296,
   "metadata": {
    "collapsed": false
   },
   "outputs": [],
   "source": [
    "tag_network_data = books_with_tags[['original_title', 'tag_name', 'count']]\n",
    "tag_network_data.columns = ['title', 'tag', 'tag_count']\n",
    "tag_network_data = tag_network_data.dropna()\n",
    "tag_network_data.shape\n",
    "\n",
    "tag_network_data.to_json('tag_network_data.json')"
   ]
  },
  {
   "cell_type": "code",
   "execution_count": 336,
   "metadata": {
    "collapsed": false
   },
   "outputs": [
    {
     "data": {
      "text/html": [
       "<div>\n",
       "<table border=\"1\" class=\"dataframe\">\n",
       "  <thead>\n",
       "    <tr style=\"text-align: right;\">\n",
       "      <th></th>\n",
       "      <th>unread_count</th>\n",
       "    </tr>\n",
       "    <tr>\n",
       "      <th>book_id</th>\n",
       "      <th></th>\n",
       "    </tr>\n",
       "  </thead>\n",
       "  <tbody>\n",
       "    <tr>\n",
       "      <th>1</th>\n",
       "      <td>973</td>\n",
       "    </tr>\n",
       "    <tr>\n",
       "      <th>2</th>\n",
       "      <td>400</td>\n",
       "    </tr>\n",
       "    <tr>\n",
       "      <th>3</th>\n",
       "      <td>287</td>\n",
       "    </tr>\n",
       "    <tr>\n",
       "      <th>4</th>\n",
       "      <td>1478</td>\n",
       "    </tr>\n",
       "    <tr>\n",
       "      <th>5</th>\n",
       "      <td>1293</td>\n",
       "    </tr>\n",
       "  </tbody>\n",
       "</table>\n",
       "</div>"
      ],
      "text/plain": [
       "         unread_count\n",
       "book_id              \n",
       "1                 973\n",
       "2                 400\n",
       "3                 287\n",
       "4                1478\n",
       "5                1293"
      ]
     },
     "execution_count": 336,
     "metadata": {},
     "output_type": "execute_result"
    }
   ],
   "source": [
    "# to read vs. read scatter plot\n",
    "read_books = books[['book_id', 'original_publication_year', 'average_rating', 'ratings_count', 'original_title']]\n",
    "unread_counts = to_read.groupby('book_id').count()\n",
    "unread_counts.columns = ['unread_count']\n",
    "unread_counts.head()"
   ]
  },
  {
   "cell_type": "code",
   "execution_count": 337,
   "metadata": {
    "collapsed": false
   },
   "outputs": [],
   "source": [
    "def check_grouping(book_id):\n",
    "    return to_read[to_read.book_id == book_id].shape[0]"
   ]
  },
  {
   "cell_type": "code",
   "execution_count": 338,
   "metadata": {
    "collapsed": false
   },
   "outputs": [
    {
     "data": {
      "text/plain": [
       "(973, 400, 287, 1478, 1293)"
      ]
     },
     "execution_count": 338,
     "metadata": {},
     "output_type": "execute_result"
    }
   ],
   "source": [
    "check_grouping(1), check_grouping(2), check_grouping(3), check_grouping(4), check_grouping(5)"
   ]
  },
  {
   "cell_type": "code",
   "execution_count": 388,
   "metadata": {
    "collapsed": false
   },
   "outputs": [
    {
     "data": {
      "text/html": [
       "<div>\n",
       "<table border=\"1\" class=\"dataframe\">\n",
       "  <thead>\n",
       "    <tr style=\"text-align: right;\">\n",
       "      <th></th>\n",
       "      <th>unread_count</th>\n",
       "      <th>book_id</th>\n",
       "    </tr>\n",
       "    <tr>\n",
       "      <th>book_id</th>\n",
       "      <th></th>\n",
       "      <th></th>\n",
       "    </tr>\n",
       "  </thead>\n",
       "  <tbody>\n",
       "    <tr>\n",
       "      <th>1</th>\n",
       "      <td>973</td>\n",
       "      <td>1</td>\n",
       "    </tr>\n",
       "    <tr>\n",
       "      <th>2</th>\n",
       "      <td>400</td>\n",
       "      <td>2</td>\n",
       "    </tr>\n",
       "    <tr>\n",
       "      <th>3</th>\n",
       "      <td>287</td>\n",
       "      <td>3</td>\n",
       "    </tr>\n",
       "    <tr>\n",
       "      <th>4</th>\n",
       "      <td>1478</td>\n",
       "      <td>4</td>\n",
       "    </tr>\n",
       "    <tr>\n",
       "      <th>5</th>\n",
       "      <td>1293</td>\n",
       "      <td>5</td>\n",
       "    </tr>\n",
       "  </tbody>\n",
       "</table>\n",
       "</div>"
      ],
      "text/plain": [
       "         unread_count  book_id\n",
       "book_id                       \n",
       "1                 973        1\n",
       "2                 400        2\n",
       "3                 287        3\n",
       "4                1478        4\n",
       "5                1293        5"
      ]
     },
     "execution_count": 388,
     "metadata": {},
     "output_type": "execute_result"
    }
   ],
   "source": [
    "# NOTE: user can give a rating even if they haven't read it, so can't compare ratings_count with unread_count\n",
    "\n",
    "unread_counts.head()"
   ]
  },
  {
   "cell_type": "code",
   "execution_count": 389,
   "metadata": {
    "collapsed": false
   },
   "outputs": [
    {
     "data": {
      "text/html": [
       "<div>\n",
       "<table border=\"1\" class=\"dataframe\">\n",
       "  <thead>\n",
       "    <tr style=\"text-align: right;\">\n",
       "      <th></th>\n",
       "      <th>book_id</th>\n",
       "      <th>original_publication_year</th>\n",
       "      <th>average_rating</th>\n",
       "      <th>ratings_count</th>\n",
       "      <th>original_title</th>\n",
       "    </tr>\n",
       "  </thead>\n",
       "  <tbody>\n",
       "    <tr>\n",
       "      <th>26</th>\n",
       "      <td>1</td>\n",
       "      <td>2005.0</td>\n",
       "      <td>4.54</td>\n",
       "      <td>1678823</td>\n",
       "      <td>Harry Potter and the Half-Blood Prince</td>\n",
       "    </tr>\n",
       "    <tr>\n",
       "      <th>20</th>\n",
       "      <td>2</td>\n",
       "      <td>2003.0</td>\n",
       "      <td>4.46</td>\n",
       "      <td>1735368</td>\n",
       "      <td>Harry Potter and the Order of the Phoenix</td>\n",
       "    </tr>\n",
       "    <tr>\n",
       "      <th>1</th>\n",
       "      <td>3</td>\n",
       "      <td>1997.0</td>\n",
       "      <td>4.44</td>\n",
       "      <td>4602479</td>\n",
       "      <td>Harry Potter and the Philosopher's Stone</td>\n",
       "    </tr>\n",
       "    <tr>\n",
       "      <th>17</th>\n",
       "      <td>5</td>\n",
       "      <td>1999.0</td>\n",
       "      <td>4.53</td>\n",
       "      <td>1832823</td>\n",
       "      <td>Harry Potter and the Prisoner of Azkaban</td>\n",
       "    </tr>\n",
       "    <tr>\n",
       "      <th>23</th>\n",
       "      <td>6</td>\n",
       "      <td>2000.0</td>\n",
       "      <td>4.53</td>\n",
       "      <td>1753043</td>\n",
       "      <td>Harry Potter and the Goblet of Fire</td>\n",
       "    </tr>\n",
       "  </tbody>\n",
       "</table>\n",
       "</div>"
      ],
      "text/plain": [
       "    book_id  original_publication_year  average_rating  ratings_count  \\\n",
       "26        1                     2005.0            4.54        1678823   \n",
       "20        2                     2003.0            4.46        1735368   \n",
       "1         3                     1997.0            4.44        4602479   \n",
       "17        5                     1999.0            4.53        1832823   \n",
       "23        6                     2000.0            4.53        1753043   \n",
       "\n",
       "                               original_title  \n",
       "26     Harry Potter and the Half-Blood Prince  \n",
       "20  Harry Potter and the Order of the Phoenix  \n",
       "1    Harry Potter and the Philosopher's Stone  \n",
       "17   Harry Potter and the Prisoner of Azkaban  \n",
       "23        Harry Potter and the Goblet of Fire  "
      ]
     },
     "execution_count": 389,
     "metadata": {},
     "output_type": "execute_result"
    }
   ],
   "source": [
    "read_books.sort_values('book_id').head()"
   ]
  },
  {
   "cell_type": "code",
   "execution_count": 390,
   "metadata": {
    "collapsed": false
   },
   "outputs": [
    {
     "data": {
      "text/plain": [
       "((9986, 2), (10000, 5))"
      ]
     },
     "execution_count": 390,
     "metadata": {},
     "output_type": "execute_result"
    }
   ],
   "source": [
    "unread_counts.shape, read_books.shape"
   ]
  },
  {
   "cell_type": "code",
   "execution_count": 391,
   "metadata": {
    "collapsed": false
   },
   "outputs": [
    {
     "data": {
      "text/plain": [
       "811"
      ]
     },
     "execution_count": 391,
     "metadata": {},
     "output_type": "execute_result"
    }
   ],
   "source": [
    "# to_read and rated book ids only have 811 in common\n",
    "unread_book_ids = unread_counts.book_id\n",
    "rated_book_ids = read_books.book_id\n",
    "len(set(unread_book_ids) & set(rated_book_ids))"
   ]
  },
  {
   "cell_type": "code",
   "execution_count": 399,
   "metadata": {
    "collapsed": false
   },
   "outputs": [
    {
     "data": {
      "text/html": [
       "<div>\n",
       "<table border=\"1\" class=\"dataframe\">\n",
       "  <thead>\n",
       "    <tr style=\"text-align: right;\">\n",
       "      <th></th>\n",
       "      <th>original_title</th>\n",
       "      <th>unread_count</th>\n",
       "      <th>average_rating</th>\n",
       "    </tr>\n",
       "  </thead>\n",
       "  <tbody>\n",
       "    <tr>\n",
       "      <th>336</th>\n",
       "      <td>The Ultimate Hitchhiker's Guide: Five Complete...</td>\n",
       "      <td>1812</td>\n",
       "      <td>4.37</td>\n",
       "    </tr>\n",
       "    <tr>\n",
       "      <th>53</th>\n",
       "      <td>The Hitchhiker's Guide to the Galaxy</td>\n",
       "      <td>1767</td>\n",
       "      <td>4.20</td>\n",
       "    </tr>\n",
       "    <tr>\n",
       "      <th>3229</th>\n",
       "      <td>The Lord of the Rings: The Art of The Fellowsh...</td>\n",
       "      <td>1499</td>\n",
       "      <td>4.59</td>\n",
       "    </tr>\n",
       "    <tr>\n",
       "      <th>23</th>\n",
       "      <td>Harry Potter and the Goblet of Fire</td>\n",
       "      <td>1484</td>\n",
       "      <td>4.53</td>\n",
       "    </tr>\n",
       "    <tr>\n",
       "      <th>3503</th>\n",
       "      <td>The Known World</td>\n",
       "      <td>1352</td>\n",
       "      <td>3.82</td>\n",
       "    </tr>\n",
       "    <tr>\n",
       "      <th>17</th>\n",
       "      <td>Harry Potter and the Prisoner of Azkaban</td>\n",
       "      <td>1293</td>\n",
       "      <td>4.53</td>\n",
       "    </tr>\n",
       "    <tr>\n",
       "      <th>1448</th>\n",
       "      <td>Notes from a Small Island</td>\n",
       "      <td>1148</td>\n",
       "      <td>3.91</td>\n",
       "    </tr>\n",
       "    <tr>\n",
       "      <th>3752</th>\n",
       "      <td>Harry Potter Collection (Harry Potter, #1-6)</td>\n",
       "      <td>1110</td>\n",
       "      <td>4.73</td>\n",
       "    </tr>\n",
       "    <tr>\n",
       "      <th>188</th>\n",
       "      <td>The Lord of the Rings</td>\n",
       "      <td>1094</td>\n",
       "      <td>4.47</td>\n",
       "    </tr>\n",
       "    <tr>\n",
       "      <th>5071</th>\n",
       "      <td>The Salmon of Doubt: Hitchhiking the Galaxy On...</td>\n",
       "      <td>1069</td>\n",
       "      <td>3.92</td>\n",
       "    </tr>\n",
       "    <tr>\n",
       "      <th>1104</th>\n",
       "      <td>Dune Messiah</td>\n",
       "      <td>1051</td>\n",
       "      <td>3.86</td>\n",
       "    </tr>\n",
       "    <tr>\n",
       "      <th>292</th>\n",
       "      <td>Treasure Island</td>\n",
       "      <td>1040</td>\n",
       "      <td>3.82</td>\n",
       "    </tr>\n",
       "    <tr>\n",
       "      <th>1998</th>\n",
       "      <td>Tropic of Cancer</td>\n",
       "      <td>1007</td>\n",
       "      <td>3.71</td>\n",
       "    </tr>\n",
       "    <tr>\n",
       "      <th>26</th>\n",
       "      <td>Harry Potter and the Half-Blood Prince</td>\n",
       "      <td>973</td>\n",
       "      <td>4.54</td>\n",
       "    </tr>\n",
       "    <tr>\n",
       "      <th>1261</th>\n",
       "      <td>Children of Dune</td>\n",
       "      <td>913</td>\n",
       "      <td>3.90</td>\n",
       "    </tr>\n",
       "    <tr>\n",
       "      <th>1596</th>\n",
       "      <td>The Power of One</td>\n",
       "      <td>866</td>\n",
       "      <td>4.34</td>\n",
       "    </tr>\n",
       "    <tr>\n",
       "      <th>2490</th>\n",
       "      <td>Heretics of Dune</td>\n",
       "      <td>815</td>\n",
       "      <td>3.83</td>\n",
       "    </tr>\n",
       "    <tr>\n",
       "      <th>963</th>\n",
       "      <td>The Hobbit and The Lord of the Rings</td>\n",
       "      <td>801</td>\n",
       "      <td>4.59</td>\n",
       "    </tr>\n",
       "    <tr>\n",
       "      <th>7903</th>\n",
       "      <td>Job: A Comedy of Justice</td>\n",
       "      <td>737</td>\n",
       "      <td>3.77</td>\n",
       "    </tr>\n",
       "    <tr>\n",
       "      <th>6122</th>\n",
       "      <td>The Door into Summer</td>\n",
       "      <td>724</td>\n",
       "      <td>4.00</td>\n",
       "    </tr>\n",
       "  </tbody>\n",
       "</table>\n",
       "</div>"
      ],
      "text/plain": [
       "                                         original_title  unread_count  \\\n",
       "336   The Ultimate Hitchhiker's Guide: Five Complete...          1812   \n",
       "53                 The Hitchhiker's Guide to the Galaxy          1767   \n",
       "3229  The Lord of the Rings: The Art of The Fellowsh...          1499   \n",
       "23                  Harry Potter and the Goblet of Fire          1484   \n",
       "3503                                    The Known World          1352   \n",
       "17             Harry Potter and the Prisoner of Azkaban          1293   \n",
       "1448                          Notes from a Small Island          1148   \n",
       "3752       Harry Potter Collection (Harry Potter, #1-6)          1110   \n",
       "188                               The Lord of the Rings          1094   \n",
       "5071  The Salmon of Doubt: Hitchhiking the Galaxy On...          1069   \n",
       "1104                                      Dune Messiah           1051   \n",
       "292                                     Treasure Island          1040   \n",
       "1998                                   Tropic of Cancer          1007   \n",
       "26               Harry Potter and the Half-Blood Prince           973   \n",
       "1261                                   Children of Dune           913   \n",
       "1596                                   The Power of One           866   \n",
       "2490                                   Heretics of Dune           815   \n",
       "963                The Hobbit and The Lord of the Rings           801   \n",
       "7903                           Job: A Comedy of Justice           737   \n",
       "6122                               The Door into Summer           724   \n",
       "\n",
       "      average_rating  \n",
       "336             4.37  \n",
       "53              4.20  \n",
       "3229            4.59  \n",
       "23              4.53  \n",
       "3503            3.82  \n",
       "17              4.53  \n",
       "1448            3.91  \n",
       "3752            4.73  \n",
       "188             4.47  \n",
       "5071            3.92  \n",
       "1104            3.86  \n",
       "292             3.82  \n",
       "1998            3.71  \n",
       "26              4.54  \n",
       "1261            3.90  \n",
       "1596            4.34  \n",
       "2490            3.83  \n",
       "963             4.59  \n",
       "7903            3.77  \n",
       "6122            4.00  "
      ]
     },
     "execution_count": 399,
     "metadata": {},
     "output_type": "execute_result"
    }
   ],
   "source": [
    "# What are the most unread books?\n",
    "unread_with_title = pd.merge(unread_counts, read_books, right_on='book_id', left_index=True).dropna()\n",
    "unread_with_title.shape, unread_counts.shape, read_books.shape\n",
    "\n",
    "unread_with_title.sort_values(['unread_count'], ascending=False)[['original_title', 'unread_count', 'average_rating']].head(20)"
   ]
  },
  {
   "cell_type": "code",
   "execution_count": 401,
   "metadata": {
    "collapsed": false
   },
   "outputs": [
    {
     "data": {
      "text/plain": [
       "<matplotlib.axes._subplots.AxesSubplot at 0x1490fea90>"
      ]
     },
     "execution_count": 401,
     "metadata": {},
     "output_type": "execute_result"
    },
    {
     "data": {
      "image/png": "[encoded data removed]",
      "text/plain": [
       "<matplotlib.figure.Figure at 0x1318fd3c8>"
      ]
     },
     "metadata": {},
     "output_type": "display_data"
    }
   ],
   "source": [
    "# scatter plot of rating vs. unread\n",
    "unread_with_title.plot.scatter('average_rating', 'unread_count')"
   ]
  },
  {
   "cell_type": "code",
   "execution_count": 406,
   "metadata": {
    "collapsed": false
   },
   "outputs": [
    {
     "data": {
      "text/plain": [
       "<matplotlib.axes._subplots.AxesSubplot at 0x131962b00>"
      ]
     },
     "execution_count": 406,
     "metadata": {},
     "output_type": "execute_result"
    },
    {
     "data": {
      "image/png": "[encoded data removed]",
      "text/plain": [
       "<matplotlib.figure.Figure at 0x134f43860>"
      ]
     },
     "metadata": {},
     "output_type": "display_data"
    }
   ],
   "source": [
    "# scatter plot of rating vs. num ratings\n",
    "unread_with_title.plot.scatter('average_rating', 'ratings_count')"
   ]
  },
  {
   "cell_type": "code",
   "execution_count": 417,
   "metadata": {
    "collapsed": false
   },
   "outputs": [
    {
     "data": {
      "text/html": [
       "<div>\n",
       "<table border=\"1\" class=\"dataframe\">\n",
       "  <thead>\n",
       "    <tr style=\"text-align: right;\">\n",
       "      <th></th>\n",
       "      <th>count</th>\n",
       "      <th>tag_id</th>\n",
       "      <th>tag_name</th>\n",
       "    </tr>\n",
       "  </thead>\n",
       "  <tbody>\n",
       "    <tr>\n",
       "      <th>9477</th>\n",
       "      <td>86567</td>\n",
       "      <td>9477</td>\n",
       "      <td>did-not-finish</td>\n",
       "    </tr>\n",
       "    <tr>\n",
       "      <th>31505</th>\n",
       "      <td>50108</td>\n",
       "      <td>31505</td>\n",
       "      <td>unfinished</td>\n",
       "    </tr>\n",
       "    <tr>\n",
       "      <th>8346</th>\n",
       "      <td>16775</td>\n",
       "      <td>8346</td>\n",
       "      <td>couldn-t-finish</td>\n",
       "    </tr>\n",
       "    <tr>\n",
       "      <th>12869</th>\n",
       "      <td>14315</td>\n",
       "      <td>12869</td>\n",
       "      <td>gave-up-on</td>\n",
       "    </tr>\n",
       "    <tr>\n",
       "      <th>12868</th>\n",
       "      <td>7250</td>\n",
       "      <td>12868</td>\n",
       "      <td>gave-up</td>\n",
       "    </tr>\n",
       "    <tr>\n",
       "      <th>8344</th>\n",
       "      <td>4392</td>\n",
       "      <td>8344</td>\n",
       "      <td>could-not-finish</td>\n",
       "    </tr>\n",
       "    <tr>\n",
       "      <th>28740</th>\n",
       "      <td>3970</td>\n",
       "      <td>28740</td>\n",
       "      <td>stopped-reading</td>\n",
       "    </tr>\n",
       "    <tr>\n",
       "      <th>21915</th>\n",
       "      <td>1466</td>\n",
       "      <td>21915</td>\n",
       "      <td>not-finished</td>\n",
       "    </tr>\n",
       "    <tr>\n",
       "      <th>28739</th>\n",
       "      <td>13</td>\n",
       "      <td>28739</td>\n",
       "      <td>stopped</td>\n",
       "    </tr>\n",
       "  </tbody>\n",
       "</table>\n",
       "</div>"
      ],
      "text/plain": [
       "       count  tag_id          tag_name\n",
       "9477   86567    9477    did-not-finish\n",
       "31505  50108   31505        unfinished\n",
       "8346   16775    8346   couldn-t-finish\n",
       "12869  14315   12869        gave-up-on\n",
       "12868   7250   12868           gave-up\n",
       "8344    4392    8344  could-not-finish\n",
       "28740   3970   28740   stopped-reading\n",
       "21915   1466   21915      not-finished\n",
       "28739     13   28739           stopped"
      ]
     },
     "execution_count": 417,
     "metadata": {},
     "output_type": "execute_result"
    }
   ],
   "source": [
    "gave_up_tags = [\n",
    "    'stopped-reading',\n",
    "    'gave-up-on',\n",
    "    'gave-up',\n",
    "    'couldn-t-finish',\n",
    "    'could-not-finish',\n",
    "    'unfinished',\n",
    "    'not-finished',\n",
    "    'did-not-finish',\n",
    "    'stopped']\n",
    "gave_up_counts = sorted_tag_data[sorted_tag_data.tag_name.isin(gave_up_tags)]\n",
    "gave_up_counts"
   ]
  },
  {
   "cell_type": "code",
   "execution_count": 422,
   "metadata": {
    "collapsed": false
   },
   "outputs": [
    {
     "data": {
      "text/plain": [
       "184856"
      ]
     },
     "execution_count": 422,
     "metadata": {},
     "output_type": "execute_result"
    }
   ],
   "source": [
    "# 184,856 failures of diligence\n",
    "gave_up_counts['count'].sum()"
   ]
  },
  {
   "cell_type": "code",
   "execution_count": 457,
   "metadata": {
    "collapsed": false
   },
   "outputs": [
    {
     "data": {
      "text/html": [
       "<div>\n",
       "<table border=\"1\" class=\"dataframe\">\n",
       "  <thead>\n",
       "    <tr style=\"text-align: right;\">\n",
       "      <th></th>\n",
       "      <th>count</th>\n",
       "      <th>average_rating</th>\n",
       "    </tr>\n",
       "    <tr>\n",
       "      <th>original_title</th>\n",
       "      <th></th>\n",
       "      <th></th>\n",
       "    </tr>\n",
       "  </thead>\n",
       "  <tbody>\n",
       "    <tr>\n",
       "      <th>Catch-22</th>\n",
       "      <td>1156</td>\n",
       "      <td>3.98</td>\n",
       "    </tr>\n",
       "    <tr>\n",
       "      <th>Eat, pray, love: one woman's search for everything across Italy, India and Indonesia</th>\n",
       "      <td>1108</td>\n",
       "      <td>3.51</td>\n",
       "    </tr>\n",
       "    <tr>\n",
       "      <th>Wicked: The Life and Times of the Wicked Witch of the West</th>\n",
       "      <td>994</td>\n",
       "      <td>3.52</td>\n",
       "    </tr>\n",
       "    <tr>\n",
       "      <th>The Goldfinch</th>\n",
       "      <td>986</td>\n",
       "      <td>3.87</td>\n",
       "    </tr>\n",
       "    <tr>\n",
       "      <th>Outlander</th>\n",
       "      <td>926</td>\n",
       "      <td>4.20</td>\n",
       "    </tr>\n",
       "    <tr>\n",
       "      <th>Wolf Hall</th>\n",
       "      <td>886</td>\n",
       "      <td>3.85</td>\n",
       "    </tr>\n",
       "    <tr>\n",
       "      <th>A Game of Thrones</th>\n",
       "      <td>846</td>\n",
       "      <td>4.45</td>\n",
       "    </tr>\n",
       "    <tr>\n",
       "      <th>Jonathan Strange &amp; Mr Norrell</th>\n",
       "      <td>770</td>\n",
       "      <td>3.80</td>\n",
       "    </tr>\n",
       "    <tr>\n",
       "      <th>American Gods</th>\n",
       "      <td>768</td>\n",
       "      <td>4.11</td>\n",
       "    </tr>\n",
       "    <tr>\n",
       "      <th>The Book Thief</th>\n",
       "      <td>720</td>\n",
       "      <td>4.36</td>\n",
       "    </tr>\n",
       "    <tr>\n",
       "      <th>Infinite Jest</th>\n",
       "      <td>713</td>\n",
       "      <td>4.31</td>\n",
       "    </tr>\n",
       "    <tr>\n",
       "      <th>Life of Pi</th>\n",
       "      <td>695</td>\n",
       "      <td>3.88</td>\n",
       "    </tr>\n",
       "    <tr>\n",
       "      <th>The Host</th>\n",
       "      <td>653</td>\n",
       "      <td>3.84</td>\n",
       "    </tr>\n",
       "    <tr>\n",
       "      <th>A Discovery of Witches</th>\n",
       "      <td>649</td>\n",
       "      <td>3.99</td>\n",
       "    </tr>\n",
       "    <tr>\n",
       "      <th>The Magicians</th>\n",
       "      <td>649</td>\n",
       "      <td>3.47</td>\n",
       "    </tr>\n",
       "    <tr>\n",
       "      <th>Life After Life</th>\n",
       "      <td>645</td>\n",
       "      <td>3.74</td>\n",
       "    </tr>\n",
       "    <tr>\n",
       "      <th>The Night Circus</th>\n",
       "      <td>642</td>\n",
       "      <td>4.03</td>\n",
       "    </tr>\n",
       "    <tr>\n",
       "      <th>Män som hatar kvinnor</th>\n",
       "      <td>636</td>\n",
       "      <td>4.11</td>\n",
       "    </tr>\n",
       "    <tr>\n",
       "      <th>Cien años de soledad</th>\n",
       "      <td>608</td>\n",
       "      <td>4.04</td>\n",
       "    </tr>\n",
       "    <tr>\n",
       "      <th>Анна Каренина</th>\n",
       "      <td>598</td>\n",
       "      <td>4.02</td>\n",
       "    </tr>\n",
       "    <tr>\n",
       "      <th>いちきゅうはちよん [Ichi-Kyū-Hachi-Yon]</th>\n",
       "      <td>568</td>\n",
       "      <td>3.89</td>\n",
       "    </tr>\n",
       "    <tr>\n",
       "      <th>Lolita</th>\n",
       "      <td>560</td>\n",
       "      <td>3.88</td>\n",
       "    </tr>\n",
       "    <tr>\n",
       "      <th>Shiver</th>\n",
       "      <td>545</td>\n",
       "      <td>3.78</td>\n",
       "    </tr>\n",
       "    <tr>\n",
       "      <th>Fifty Shades of Grey</th>\n",
       "      <td>535</td>\n",
       "      <td>3.67</td>\n",
       "    </tr>\n",
       "    <tr>\n",
       "      <th>Cloud Atlas</th>\n",
       "      <td>511</td>\n",
       "      <td>4.01</td>\n",
       "    </tr>\n",
       "    <tr>\n",
       "      <th>Pride and Prejudice and Zombies</th>\n",
       "      <td>503</td>\n",
       "      <td>3.28</td>\n",
       "    </tr>\n",
       "    <tr>\n",
       "      <th>The Shack: Where Tragedy Confronts Eternity</th>\n",
       "      <td>469</td>\n",
       "      <td>3.74</td>\n",
       "    </tr>\n",
       "    <tr>\n",
       "      <th>Matched</th>\n",
       "      <td>468</td>\n",
       "      <td>3.68</td>\n",
       "    </tr>\n",
       "    <tr>\n",
       "      <th>The Luminaries</th>\n",
       "      <td>461</td>\n",
       "      <td>3.70</td>\n",
       "    </tr>\n",
       "    <tr>\n",
       "      <th>Moby Dick; or, The Whale</th>\n",
       "      <td>461</td>\n",
       "      <td>3.46</td>\n",
       "    </tr>\n",
       "    <tr>\n",
       "      <th>...</th>\n",
       "      <td>...</td>\n",
       "      <td>...</td>\n",
       "    </tr>\n",
       "    <tr>\n",
       "      <th>Franz Kafka's The Castle</th>\n",
       "      <td>2</td>\n",
       "      <td>4.07</td>\n",
       "    </tr>\n",
       "    <tr>\n",
       "      <th>Chromosome 6</th>\n",
       "      <td>2</td>\n",
       "      <td>3.89</td>\n",
       "    </tr>\n",
       "    <tr>\n",
       "      <th>Small Sacrifices: A True Story of Passion and Murder</th>\n",
       "      <td>2</td>\n",
       "      <td>4.20</td>\n",
       "    </tr>\n",
       "    <tr>\n",
       "      <th>Secrets of a shoe addict</th>\n",
       "      <td>2</td>\n",
       "      <td>3.73</td>\n",
       "    </tr>\n",
       "    <tr>\n",
       "      <th>The Endurance: Shackleton's legendary Antarctic expedition</th>\n",
       "      <td>2</td>\n",
       "      <td>4.31</td>\n",
       "    </tr>\n",
       "    <tr>\n",
       "      <th>How to Make Love Like a Porn Star: A Cautionary Tale</th>\n",
       "      <td>2</td>\n",
       "      <td>3.75</td>\n",
       "    </tr>\n",
       "    <tr>\n",
       "      <th>The Second Assistant: A Tale from the Bottom of the Hollywood Ladder</th>\n",
       "      <td>2</td>\n",
       "      <td>3.52</td>\n",
       "    </tr>\n",
       "    <tr>\n",
       "      <th>Developing the Leader Within You</th>\n",
       "      <td>2</td>\n",
       "      <td>4.18</td>\n",
       "    </tr>\n",
       "    <tr>\n",
       "      <th>April 1865: The Month That Saved America (P.S.)</th>\n",
       "      <td>2</td>\n",
       "      <td>4.15</td>\n",
       "    </tr>\n",
       "    <tr>\n",
       "      <th>Belly Laughs: The Naked Truth About Pregnancy and Childbirth</th>\n",
       "      <td>2</td>\n",
       "      <td>3.72</td>\n",
       "    </tr>\n",
       "    <tr>\n",
       "      <th>Who Will Cry When You Die? Life Lessons from the Monk Who Sold His Ferrari</th>\n",
       "      <td>2</td>\n",
       "      <td>3.93</td>\n",
       "    </tr>\n",
       "    <tr>\n",
       "      <th>Washington's Crossing</th>\n",
       "      <td>2</td>\n",
       "      <td>4.11</td>\n",
       "    </tr>\n",
       "    <tr>\n",
       "      <th>Lords of the Bow (Conqueror, #2)</th>\n",
       "      <td>2</td>\n",
       "      <td>4.31</td>\n",
       "    </tr>\n",
       "    <tr>\n",
       "      <th>The Girl With No Past</th>\n",
       "      <td>2</td>\n",
       "      <td>3.59</td>\n",
       "    </tr>\n",
       "    <tr>\n",
       "      <th>De toverspiegel van M.C. Escher</th>\n",
       "      <td>1</td>\n",
       "      <td>4.15</td>\n",
       "    </tr>\n",
       "    <tr>\n",
       "      <th>Artemis Fowl Boxed Set (Artemis Fowl, #1-5)</th>\n",
       "      <td>1</td>\n",
       "      <td>4.29</td>\n",
       "    </tr>\n",
       "    <tr>\n",
       "      <th>Stoker's Dracula</th>\n",
       "      <td>1</td>\n",
       "      <td>3.93</td>\n",
       "    </tr>\n",
       "    <tr>\n",
       "      <th>حوجن</th>\n",
       "      <td>1</td>\n",
       "      <td>3.75</td>\n",
       "    </tr>\n",
       "    <tr>\n",
       "      <th>One Flew Over the Cuckoo's Nest (script)</th>\n",
       "      <td>1</td>\n",
       "      <td>4.28</td>\n",
       "    </tr>\n",
       "    <tr>\n",
       "      <th>The History of the Hobbit, Part One: Mr. Baggins</th>\n",
       "      <td>1</td>\n",
       "      <td>3.81</td>\n",
       "    </tr>\n",
       "    <tr>\n",
       "      <th>The Creative License: Giving Yourself Permission to Be The Artist You Truly Are</th>\n",
       "      <td>1</td>\n",
       "      <td>3.93</td>\n",
       "    </tr>\n",
       "    <tr>\n",
       "      <th>Hammer of the Gods</th>\n",
       "      <td>1</td>\n",
       "      <td>3.83</td>\n",
       "    </tr>\n",
       "    <tr>\n",
       "      <th>家庭教師ヒットマンREBORN! 1</th>\n",
       "      <td>1</td>\n",
       "      <td>4.22</td>\n",
       "    </tr>\n",
       "    <tr>\n",
       "      <th>The Next Big Thing</th>\n",
       "      <td>1</td>\n",
       "      <td>3.68</td>\n",
       "    </tr>\n",
       "    <tr>\n",
       "      <th>Flyy Girl</th>\n",
       "      <td>1</td>\n",
       "      <td>4.21</td>\n",
       "    </tr>\n",
       "    <tr>\n",
       "      <th>Money, and the Law of Attraction: Learning to Attract Wealth, Health, and Happiness</th>\n",
       "      <td>1</td>\n",
       "      <td>4.24</td>\n",
       "    </tr>\n",
       "    <tr>\n",
       "      <th>Flight Of The Old Dog</th>\n",
       "      <td>1</td>\n",
       "      <td>4.08</td>\n",
       "    </tr>\n",
       "    <tr>\n",
       "      <th>Sherlock Holmes of Baker Street, the life of the world’s first consulting detective.</th>\n",
       "      <td>1</td>\n",
       "      <td>4.40</td>\n",
       "    </tr>\n",
       "    <tr>\n",
       "      <th>Captains and the Kings</th>\n",
       "      <td>1</td>\n",
       "      <td>4.11</td>\n",
       "    </tr>\n",
       "    <tr>\n",
       "      <th>The  Bedside, Bathtub and Armchair Companion to Agatha Christie</th>\n",
       "      <td>1</td>\n",
       "      <td>4.23</td>\n",
       "    </tr>\n",
       "  </tbody>\n",
       "</table>\n",
       "<p>4100 rows × 2 columns</p>\n",
       "</div>"
      ],
      "text/plain": [
       "                                                    count  average_rating\n",
       "original_title                                                           \n",
       "Catch-22                                             1156            3.98\n",
       "Eat, pray, love: one woman's search for everyth...   1108            3.51\n",
       "Wicked: The Life and Times of the Wicked Witch ...    994            3.52\n",
       "The Goldfinch                                         986            3.87\n",
       "Outlander                                             926            4.20\n",
       "Wolf Hall                                             886            3.85\n",
       "A Game of Thrones                                     846            4.45\n",
       "Jonathan Strange & Mr Norrell                         770            3.80\n",
       "American Gods                                         768            4.11\n",
       "The Book Thief                                        720            4.36\n",
       "Infinite Jest                                         713            4.31\n",
       "Life of Pi                                            695            3.88\n",
       "The Host                                              653            3.84\n",
       "A Discovery of Witches                                649            3.99\n",
       "The Magicians                                         649            3.47\n",
       "Life After Life                                       645            3.74\n",
       "The Night Circus                                      642            4.03\n",
       "Män som hatar kvinnor                                 636            4.11\n",
       "Cien años de soledad                                  608            4.04\n",
       "Анна Каренина                                         598            4.02\n",
       "いちきゅうはちよん [Ichi-Kyū-Hachi-Yon]                        568            3.89\n",
       "Lolita                                                560            3.88\n",
       "Shiver                                                545            3.78\n",
       "Fifty Shades of Grey                                  535            3.67\n",
       "Cloud Atlas                                           511            4.01\n",
       "Pride and Prejudice and Zombies                       503            3.28\n",
       "The Shack: Where Tragedy Confronts Eternity           469            3.74\n",
       "Matched                                               468            3.68\n",
       "The Luminaries                                        461            3.70\n",
       "Moby Dick; or, The Whale                              461            3.46\n",
       "...                                                   ...             ...\n",
       "Franz Kafka's The Castle                                2            4.07\n",
       "Chromosome 6                                            2            3.89\n",
       "Small Sacrifices: A True Story of Passion and M...      2            4.20\n",
       "Secrets of a shoe addict                                2            3.73\n",
       "The Endurance: Shackleton's legendary Antarctic...      2            4.31\n",
       "How to Make Love Like a Porn Star: A Cautionary...      2            3.75\n",
       "The Second Assistant: A Tale from the Bottom of...      2            3.52\n",
       "Developing the Leader Within You                        2            4.18\n",
       "April 1865: The Month That Saved America (P.S.)         2            4.15\n",
       "Belly Laughs: The Naked Truth About Pregnancy a...      2            3.72\n",
       "Who Will Cry When You Die? Life Lessons from th...      2            3.93\n",
       "Washington's Crossing                                   2            4.11\n",
       "Lords of the Bow (Conqueror, #2)                        2            4.31\n",
       "The Girl With No Past                                   2            3.59\n",
       "De toverspiegel van M.C. Escher                         1            4.15\n",
       "Artemis Fowl Boxed Set (Artemis Fowl, #1-5)             1            4.29\n",
       "Stoker's Dracula                                        1            3.93\n",
       "حوجن                                                    1            3.75\n",
       "One Flew Over the Cuckoo's Nest (script)                1            4.28\n",
       "The History of the Hobbit, Part One: Mr. Baggins        1            3.81\n",
       "The Creative License: Giving Yourself Permissio...      1            3.93\n",
       "Hammer of the Gods                                      1            3.83\n",
       "家庭教師ヒットマンREBORN! 1                                      1            4.22\n",
       "The Next Big Thing                                      1            3.68\n",
       "Flyy Girl                                               1            4.21\n",
       "Money, and the Law of Attraction: Learning to A...      1            4.24\n",
       "Flight Of The Old Dog                                   1            4.08\n",
       "Sherlock Holmes of Baker Street, the life of th...      1            4.40\n",
       "Captains and the Kings                                  1            4.11\n",
       "The  Bedside, Bathtub and Armchair Companion to...      1            4.23\n",
       "\n",
       "[4100 rows x 2 columns]"
      ]
     },
     "execution_count": 457,
     "metadata": {},
     "output_type": "execute_result"
    }
   ],
   "source": [
    "# which books could readers not finish?\n",
    "book_tags = pd.read_csv('book_tags.csv')\n",
    "gave_up_tag_data = pd.merge(gave_up_counts[['tag_id', 'tag_name']], book_tags, on='tag_id')\n",
    "gave_up_tag_data.columns = ['tag_id', 'tag_name', 'book_id', 'count']\n",
    "gave_up_tag_data = pd.merge(gave_up_tag_data, books[['book_id', 'original_title', 'average_rating']], on='book_id')\n",
    "popular_unfinished_books = gave_up_tag_data[['original_title', 'count', 'average_rating']].groupby('original_title').sum().sort_values(['count'], ascending=False)\n",
    "counts_per_group = gave_up_tag_data[['original_title', 'count', 'average_rating']].groupby('original_title').count()['count']\n",
    "popular_unfinished_books.average_rating /= counts_per_group\n",
    "popular_unfinished_books"
   ]
  },
  {
   "cell_type": "code",
   "execution_count": 459,
   "metadata": {
    "collapsed": false
   },
   "outputs": [
    {
     "data": {
      "text/plain": [
       "<matplotlib.axes._subplots.AxesSubplot at 0x1491359b0>"
      ]
     },
     "execution_count": 459,
     "metadata": {},
     "output_type": "execute_result"
    },
    {
     "data": {
      "image/png": "[encoded data removed]",
      "text/plain": [
       "<matplotlib.figure.Figure at 0x149124e80>"
      ]
     },
     "metadata": {},
     "output_type": "display_data"
    }
   ],
   "source": [
    "# scatter plot of unfinished book x rating\n",
    "popular_unfinished_books.plot.scatter('average_rating', 'count')"
   ]
  },
  {
   "cell_type": "code",
   "execution_count": 468,
   "metadata": {
    "collapsed": false
   },
   "outputs": [
    {
     "data": {
      "text/html": [
       "<div>\n",
       "<table border=\"1\" class=\"dataframe\">\n",
       "  <thead>\n",
       "    <tr style=\"text-align: right;\">\n",
       "      <th></th>\n",
       "      <th>count</th>\n",
       "    </tr>\n",
       "    <tr>\n",
       "      <th>original_title</th>\n",
       "      <th></th>\n",
       "    </tr>\n",
       "  </thead>\n",
       "  <tbody>\n",
       "    <tr>\n",
       "      <th>O Alquimista</th>\n",
       "      <td>596234</td>\n",
       "    </tr>\n",
       "    <tr>\n",
       "      <th>Män som hatar kvinnor</th>\n",
       "      <td>586235</td>\n",
       "    </tr>\n",
       "    <tr>\n",
       "      <th>Harry Potter and the Philosopher's Stone</th>\n",
       "      <td>496107</td>\n",
       "    </tr>\n",
       "    <tr>\n",
       "      <th>Les Misérables</th>\n",
       "      <td>488469</td>\n",
       "    </tr>\n",
       "    <tr>\n",
       "      <th>Cinder</th>\n",
       "      <td>474954</td>\n",
       "    </tr>\n",
       "    <tr>\n",
       "      <th>Catch-22</th>\n",
       "      <td>465640</td>\n",
       "    </tr>\n",
       "    <tr>\n",
       "      <th>Gone with the Wind</th>\n",
       "      <td>454565</td>\n",
       "    </tr>\n",
       "    <tr>\n",
       "      <th>Slaughterhouse-Five, or The Children's Crusade: A Duty-Dance with Death</th>\n",
       "      <td>443942</td>\n",
       "    </tr>\n",
       "    <tr>\n",
       "      <th>Memoirs of a Geisha</th>\n",
       "      <td>436097</td>\n",
       "    </tr>\n",
       "    <tr>\n",
       "      <th>A Tale of Two Cities</th>\n",
       "      <td>402942</td>\n",
       "    </tr>\n",
       "  </tbody>\n",
       "</table>\n",
       "</div>"
      ],
      "text/plain": [
       "                                                     count\n",
       "original_title                                            \n",
       "O Alquimista                                        596234\n",
       "Män som hatar kvinnor                               586235\n",
       "Harry Potter and the Philosopher's Stone            496107\n",
       "Les Misérables                                      488469\n",
       "Cinder                                              474954\n",
       "Catch-22                                            465640\n",
       "Gone with the Wind                                  454565\n",
       "Slaughterhouse-Five, or The Children's Crusade:...  443942\n",
       "Memoirs of a Geisha                                 436097\n",
       "A Tale of Two Cities                                402942"
      ]
     },
     "execution_count": 468,
     "metadata": {},
     "output_type": "execute_result"
    }
   ],
   "source": [
    "# Which books do people want to read next?\n",
    "# 30574 == tag id of to-read\n",
    "\n",
    "def popular_books_with_tag(tag_id):\n",
    "    book_tags['book_id'] = book_tags.goodreads_book_id\n",
    "    df = pd.merge(books[['book_id', 'original_title']], book_tags[book_tags.tag_id == tag_id], on='book_id')\n",
    "    return df[['original_title', 'count']].groupby('original_title').sum().sort_values('count', ascending=False)\n",
    "    \n",
    "popular_books_with_tag(30574).head(10)"
   ]
  },
  {
   "cell_type": "code",
   "execution_count": 469,
   "metadata": {
    "collapsed": false
   },
   "outputs": [
    {
     "data": {
      "text/html": [
       "<div>\n",
       "<table border=\"1\" class=\"dataframe\">\n",
       "  <thead>\n",
       "    <tr style=\"text-align: right;\">\n",
       "      <th></th>\n",
       "      <th>count</th>\n",
       "    </tr>\n",
       "    <tr>\n",
       "      <th>original_title</th>\n",
       "      <th></th>\n",
       "    </tr>\n",
       "  </thead>\n",
       "  <tbody>\n",
       "    <tr>\n",
       "      <th>James Potter and the Hall of Elders' Crossing</th>\n",
       "      <td>77785</td>\n",
       "    </tr>\n",
       "    <tr>\n",
       "      <th>Les Misérables</th>\n",
       "      <td>64311</td>\n",
       "    </tr>\n",
       "    <tr>\n",
       "      <th>The Handmaid's Tale</th>\n",
       "      <td>47919</td>\n",
       "    </tr>\n",
       "    <tr>\n",
       "      <th>Harry Potter and the Philosopher's Stone</th>\n",
       "      <td>44640</td>\n",
       "    </tr>\n",
       "    <tr>\n",
       "      <th>The Picture of Dorian Gray</th>\n",
       "      <td>39631</td>\n",
       "    </tr>\n",
       "    <tr>\n",
       "      <th>The Hunger Games</th>\n",
       "      <td>35418</td>\n",
       "    </tr>\n",
       "    <tr>\n",
       "      <th>A Tale of Two Cities</th>\n",
       "      <td>33064</td>\n",
       "    </tr>\n",
       "    <tr>\n",
       "      <th>A Clash of Kings</th>\n",
       "      <td>31475</td>\n",
       "    </tr>\n",
       "    <tr>\n",
       "      <th>Dracula</th>\n",
       "      <td>28995</td>\n",
       "    </tr>\n",
       "    <tr>\n",
       "      <th>Divergent</th>\n",
       "      <td>28677</td>\n",
       "    </tr>\n",
       "  </tbody>\n",
       "</table>\n",
       "</div>"
      ],
      "text/plain": [
       "                                                count\n",
       "original_title                                       \n",
       "James Potter and the Hall of Elders' Crossing   77785\n",
       "Les Misérables                                  64311\n",
       "The Handmaid's Tale                             47919\n",
       "Harry Potter and the Philosopher's Stone        44640\n",
       "The Picture of Dorian Gray                      39631\n",
       "The Hunger Games                                35418\n",
       "A Tale of Two Cities                            33064\n",
       "A Clash of Kings                                31475\n",
       "Dracula                                         28995\n",
       "Divergent                                       28677"
      ]
     },
     "execution_count": 469,
     "metadata": {},
     "output_type": "execute_result"
    }
   ],
   "source": [
    "# Which books are people currently reading?\n",
    "# tag id = 8717\n",
    "popular_books_with_tag(8717).head(10)"
   ]
  },
  {
   "cell_type": "code",
   "execution_count": 472,
   "metadata": {
    "collapsed": false
   },
   "outputs": [
    {
     "data": {
      "text/html": [
       "<div>\n",
       "<table border=\"1\" class=\"dataframe\">\n",
       "  <thead>\n",
       "    <tr style=\"text-align: right;\">\n",
       "      <th></th>\n",
       "      <th>count</th>\n",
       "    </tr>\n",
       "    <tr>\n",
       "      <th>original_title</th>\n",
       "      <th></th>\n",
       "    </tr>\n",
       "  </thead>\n",
       "  <tbody>\n",
       "    <tr>\n",
       "      <th>The Hunger Games</th>\n",
       "      <td>50755</td>\n",
       "    </tr>\n",
       "    <tr>\n",
       "      <th>Harry Potter and the Philosopher's Stone</th>\n",
       "      <td>48220</td>\n",
       "    </tr>\n",
       "    <tr>\n",
       "      <th>Harry Potter and the Deathly Hallows</th>\n",
       "      <td>40884</td>\n",
       "    </tr>\n",
       "    <tr>\n",
       "      <th>Harry Potter and the Prisoner of Azkaban</th>\n",
       "      <td>40087</td>\n",
       "    </tr>\n",
       "    <tr>\n",
       "      <th>The Fault in Our Stars</th>\n",
       "      <td>35724</td>\n",
       "    </tr>\n",
       "    <tr>\n",
       "      <th>Harry Potter and the Half-Blood Prince</th>\n",
       "      <td>34173</td>\n",
       "    </tr>\n",
       "    <tr>\n",
       "      <th>Pride and Prejudice</th>\n",
       "      <td>31163</td>\n",
       "    </tr>\n",
       "    <tr>\n",
       "      <th>To Kill a Mockingbird</th>\n",
       "      <td>30903</td>\n",
       "    </tr>\n",
       "    <tr>\n",
       "      <th>The Book Thief</th>\n",
       "      <td>30427</td>\n",
       "    </tr>\n",
       "    <tr>\n",
       "      <th>Harry Potter and the Chamber of Secrets</th>\n",
       "      <td>30279</td>\n",
       "    </tr>\n",
       "  </tbody>\n",
       "</table>\n",
       "</div>"
      ],
      "text/plain": [
       "                                          count\n",
       "original_title                                 \n",
       "The Hunger Games                          50755\n",
       "Harry Potter and the Philosopher's Stone  48220\n",
       "Harry Potter and the Deathly Hallows      40884\n",
       "Harry Potter and the Prisoner of Azkaban  40087\n",
       "The Fault in Our Stars                    35724\n",
       "Harry Potter and the Half-Blood Prince    34173\n",
       "Pride and Prejudice                       31163\n",
       "To Kill a Mockingbird                     30903\n",
       "The Book Thief                            30427\n",
       "Harry Potter and the Chamber of Secrets   30279"
      ]
     },
     "execution_count": 472,
     "metadata": {},
     "output_type": "execute_result"
    }
   ],
   "source": [
    "# What are people's favorites?\n",
    "# tag id = 11557\n",
    "# Fault in our stars, gross.\n",
    "popular_books_with_tag(11557).head(10)"
   ]
  },
  {
   "cell_type": "code",
   "execution_count": 476,
   "metadata": {
    "collapsed": false
   },
   "outputs": [
    {
     "data": {
      "text/html": [
       "<div>\n",
       "<table border=\"1\" class=\"dataframe\">\n",
       "  <thead>\n",
       "    <tr style=\"text-align: right;\">\n",
       "      <th></th>\n",
       "      <th>count</th>\n",
       "    </tr>\n",
       "    <tr>\n",
       "      <th>original_title</th>\n",
       "      <th></th>\n",
       "    </tr>\n",
       "  </thead>\n",
       "  <tbody>\n",
       "    <tr>\n",
       "      <th>Pride and Prejudice</th>\n",
       "      <td>35772</td>\n",
       "    </tr>\n",
       "    <tr>\n",
       "      <th>The Great Gatsby</th>\n",
       "      <td>32061</td>\n",
       "    </tr>\n",
       "    <tr>\n",
       "      <th>To Kill a Mockingbird</th>\n",
       "      <td>31068</td>\n",
       "    </tr>\n",
       "    <tr>\n",
       "      <th>Wuthering Heights</th>\n",
       "      <td>23760</td>\n",
       "    </tr>\n",
       "    <tr>\n",
       "      <th>The Catcher in the Rye</th>\n",
       "      <td>22118</td>\n",
       "    </tr>\n",
       "    <tr>\n",
       "      <th>Animal Farm: A Fairy Story</th>\n",
       "      <td>22106</td>\n",
       "    </tr>\n",
       "    <tr>\n",
       "      <th>Little Women</th>\n",
       "      <td>20533</td>\n",
       "    </tr>\n",
       "    <tr>\n",
       "      <th>Lord of the Flies</th>\n",
       "      <td>20516</td>\n",
       "    </tr>\n",
       "    <tr>\n",
       "      <th>An Excellent conceited Tragedie of Romeo and Juliet</th>\n",
       "      <td>20507</td>\n",
       "    </tr>\n",
       "    <tr>\n",
       "      <th>Frankenstein; or, The Modern Prometheus</th>\n",
       "      <td>19277</td>\n",
       "    </tr>\n",
       "  </tbody>\n",
       "</table>\n",
       "</div>"
      ],
      "text/plain": [
       "                                                    count\n",
       "original_title                                           \n",
       "Pride and Prejudice                                 35772\n",
       "The Great Gatsby                                    32061\n",
       "To Kill a Mockingbird                               31068\n",
       "Wuthering Heights                                   23760\n",
       "The Catcher in the Rye                              22118\n",
       "Animal Farm: A Fairy Story                          22106\n",
       "Little Women                                        20533\n",
       "Lord of the Flies                                   20516\n",
       "An Excellent conceited Tragedie of Romeo and Ju...  20507\n",
       "Frankenstein; or, The Modern Prometheus             19277"
      ]
     },
     "execution_count": 476,
     "metadata": {},
     "output_type": "execute_result"
    }
   ],
   "source": [
    "# What are most popular classics? 7457\n",
    "# Conclusion: people don't really move on from middle school\n",
    "popular_books_with_tag(7457).head(10)"
   ]
  },
  {
   "cell_type": "code",
   "execution_count": 477,
   "metadata": {
    "collapsed": false
   },
   "outputs": [
    {
     "data": {
      "text/html": [
       "<div>\n",
       "<table border=\"1\" class=\"dataframe\">\n",
       "  <thead>\n",
       "    <tr style=\"text-align: right;\">\n",
       "      <th></th>\n",
       "      <th>count</th>\n",
       "    </tr>\n",
       "    <tr>\n",
       "      <th>original_title</th>\n",
       "      <th></th>\n",
       "    </tr>\n",
       "  </thead>\n",
       "  <tbody>\n",
       "    <tr>\n",
       "      <th>Harry Potter and the Philosopher's Stone</th>\n",
       "      <td>47478</td>\n",
       "    </tr>\n",
       "    <tr>\n",
       "      <th>The Hobbit or There and Back Again</th>\n",
       "      <td>41786</td>\n",
       "    </tr>\n",
       "    <tr>\n",
       "      <th>Harry Potter and the Chamber of Secrets</th>\n",
       "      <td>39501</td>\n",
       "    </tr>\n",
       "    <tr>\n",
       "      <th>Harry Potter and the Prisoner of Azkaban</th>\n",
       "      <td>39330</td>\n",
       "    </tr>\n",
       "    <tr>\n",
       "      <th>Harry Potter and the Goblet of Fire</th>\n",
       "      <td>38378</td>\n",
       "    </tr>\n",
       "    <tr>\n",
       "      <th>Harry Potter and the Deathly Hallows</th>\n",
       "      <td>37296</td>\n",
       "    </tr>\n",
       "    <tr>\n",
       "      <th>Harry Potter and the Half-Blood Prince</th>\n",
       "      <td>37174</td>\n",
       "    </tr>\n",
       "    <tr>\n",
       "      <th>The Fellowship of the Ring</th>\n",
       "      <td>31618</td>\n",
       "    </tr>\n",
       "    <tr>\n",
       "      <th>A Clash of Kings</th>\n",
       "      <td>26692</td>\n",
       "    </tr>\n",
       "    <tr>\n",
       "      <th>The Two Towers</th>\n",
       "      <td>22700</td>\n",
       "    </tr>\n",
       "  </tbody>\n",
       "</table>\n",
       "</div>"
      ],
      "text/plain": [
       "                                          count\n",
       "original_title                                 \n",
       "Harry Potter and the Philosopher's Stone  47478\n",
       "The Hobbit or There and Back Again        41786\n",
       "Harry Potter and the Chamber of Secrets   39501\n",
       "Harry Potter and the Prisoner of Azkaban  39330\n",
       "Harry Potter and the Goblet of Fire       38378\n",
       "Harry Potter and the Deathly Hallows      37296\n",
       "Harry Potter and the Half-Blood Prince    37174\n",
       " The Fellowship of the Ring               31618\n",
       "A Clash of Kings                          26692\n",
       "The Two Towers                            22700"
      ]
     },
     "execution_count": 477,
     "metadata": {},
     "output_type": "execute_result"
    }
   ],
   "source": [
    "# What are most popular fantasy? 11305\n",
    "# Harry Potter & LotR\n",
    "popular_books_with_tag(11305).head(10)"
   ]
  },
  {
   "cell_type": "code",
   "execution_count": 481,
   "metadata": {
    "collapsed": false
   },
   "outputs": [
    {
     "data": {
      "text/html": [
       "<div>\n",
       "<table border=\"1\" class=\"dataframe\">\n",
       "  <thead>\n",
       "    <tr style=\"text-align: right;\">\n",
       "      <th></th>\n",
       "      <th>count</th>\n",
       "    </tr>\n",
       "    <tr>\n",
       "      <th>original_title</th>\n",
       "      <th></th>\n",
       "    </tr>\n",
       "  </thead>\n",
       "  <tbody>\n",
       "    <tr>\n",
       "      <th>The Great Gatsby</th>\n",
       "      <td>15360</td>\n",
       "    </tr>\n",
       "    <tr>\n",
       "      <th>Nineteen Eighty-Four</th>\n",
       "      <td>15044</td>\n",
       "    </tr>\n",
       "    <tr>\n",
       "      <th>The Hunger Games</th>\n",
       "      <td>13819</td>\n",
       "    </tr>\n",
       "    <tr>\n",
       "      <th>The Da Vinci Code</th>\n",
       "      <td>13725</td>\n",
       "    </tr>\n",
       "    <tr>\n",
       "      <th>The Catcher in the Rye</th>\n",
       "      <td>13435</td>\n",
       "    </tr>\n",
       "    <tr>\n",
       "      <th>Harry Potter and the Philosopher's Stone</th>\n",
       "      <td>13239</td>\n",
       "    </tr>\n",
       "    <tr>\n",
       "      <th>Animal Farm: A Fairy Story</th>\n",
       "      <td>12944</td>\n",
       "    </tr>\n",
       "    <tr>\n",
       "      <th>The Kite Runner</th>\n",
       "      <td>11711</td>\n",
       "    </tr>\n",
       "    <tr>\n",
       "      <th>The Hobbit or There and Back Again</th>\n",
       "      <td>11206</td>\n",
       "    </tr>\n",
       "    <tr>\n",
       "      <th>Lord of the Flies</th>\n",
       "      <td>11132</td>\n",
       "    </tr>\n",
       "  </tbody>\n",
       "</table>\n",
       "</div>"
      ],
      "text/plain": [
       "                                          count\n",
       "original_title                                 \n",
       "The Great Gatsby                          15360\n",
       "Nineteen Eighty-Four                      15044\n",
       "The Hunger Games                          13819\n",
       "The Da Vinci Code                         13725\n",
       "The Catcher in the Rye                    13435\n",
       "Harry Potter and the Philosopher's Stone  13239\n",
       "Animal Farm: A Fairy Story                12944\n",
       "The Kite Runner                           11711\n",
       "The Hobbit or There and Back Again        11206\n",
       "Lord of the Flies                         11132"
      ]
     },
     "execution_count": 481,
     "metadata": {},
     "output_type": "execute_result"
    }
   ],
   "source": [
    "# What are most popular fiction? 11743\n",
    "popular_books_with_tag(11743).head(10)"
   ]
  },
  {
   "cell_type": "code",
   "execution_count": 482,
   "metadata": {
    "collapsed": false
   },
   "outputs": [
    {
     "data": {
      "text/html": [
       "<div>\n",
       "<table border=\"1\" class=\"dataframe\">\n",
       "  <thead>\n",
       "    <tr style=\"text-align: right;\">\n",
       "      <th></th>\n",
       "      <th>count</th>\n",
       "    </tr>\n",
       "    <tr>\n",
       "      <th>original_title</th>\n",
       "      <th></th>\n",
       "    </tr>\n",
       "  </thead>\n",
       "  <tbody>\n",
       "    <tr>\n",
       "      <th>Ender's Game</th>\n",
       "      <td>12349</td>\n",
       "    </tr>\n",
       "    <tr>\n",
       "      <th>The Hitchhiker's Guide to the Galaxy</th>\n",
       "      <td>9773</td>\n",
       "    </tr>\n",
       "    <tr>\n",
       "      <th>Dune</th>\n",
       "      <td>8479</td>\n",
       "    </tr>\n",
       "    <tr>\n",
       "      <th>The Martian</th>\n",
       "      <td>7905</td>\n",
       "    </tr>\n",
       "    <tr>\n",
       "      <th>The Hunger Games</th>\n",
       "      <td>6211</td>\n",
       "    </tr>\n",
       "    <tr>\n",
       "      <th>Fahrenheit 451</th>\n",
       "      <td>5796</td>\n",
       "    </tr>\n",
       "    <tr>\n",
       "      <th>Nineteen Eighty-Four</th>\n",
       "      <td>5459</td>\n",
       "    </tr>\n",
       "    <tr>\n",
       "      <th>Foundation</th>\n",
       "      <td>5405</td>\n",
       "    </tr>\n",
       "    <tr>\n",
       "      <th>Brave New World</th>\n",
       "      <td>5344</td>\n",
       "    </tr>\n",
       "    <tr>\n",
       "      <th>Do Androids Dream of Electric Sheep?</th>\n",
       "      <td>5162</td>\n",
       "    </tr>\n",
       "  </tbody>\n",
       "</table>\n",
       "</div>"
      ],
      "text/plain": [
       "                                      count\n",
       "original_title                             \n",
       "Ender's Game                          12349\n",
       "The Hitchhiker's Guide to the Galaxy   9773\n",
       "Dune                                   8479\n",
       "The Martian                            7905\n",
       "The Hunger Games                       6211\n",
       "Fahrenheit 451                         5796\n",
       "Nineteen Eighty-Four                   5459\n",
       "Foundation                             5405\n",
       "Brave New World                        5344\n",
       "Do Androids Dream of Electric Sheep?   5162"
      ]
     },
     "execution_count": 482,
     "metadata": {},
     "output_type": "execute_result"
    }
   ],
   "source": [
    "# Most popular sci-fi? 26771\n",
    "popular_books_with_tag(26771).head(10)"
   ]
  },
  {
   "cell_type": "code",
   "execution_count": 484,
   "metadata": {
    "collapsed": false
   },
   "outputs": [
    {
     "data": {
      "text/html": [
       "<div>\n",
       "<table border=\"1\" class=\"dataframe\">\n",
       "  <thead>\n",
       "    <tr style=\"text-align: right;\">\n",
       "      <th></th>\n",
       "      <th>count</th>\n",
       "    </tr>\n",
       "    <tr>\n",
       "      <th>original_title</th>\n",
       "      <th></th>\n",
       "    </tr>\n",
       "  </thead>\n",
       "  <tbody>\n",
       "    <tr>\n",
       "      <th>Bossypants</th>\n",
       "      <td>1588</td>\n",
       "    </tr>\n",
       "    <tr>\n",
       "      <th>Yes Please</th>\n",
       "      <td>1556</td>\n",
       "    </tr>\n",
       "    <tr>\n",
       "      <th>The Girl on the Train</th>\n",
       "      <td>1238</td>\n",
       "    </tr>\n",
       "    <tr>\n",
       "      <th>The Martian</th>\n",
       "      <td>1193</td>\n",
       "    </tr>\n",
       "    <tr>\n",
       "      <th>Harry Potter and the Philosopher's Stone</th>\n",
       "      <td>1143</td>\n",
       "    </tr>\n",
       "    <tr>\n",
       "      <th>Harry Potter and the Chamber of Secrets</th>\n",
       "      <td>1009</td>\n",
       "    </tr>\n",
       "    <tr>\n",
       "      <th>Harry Potter and the Prisoner of Azkaban</th>\n",
       "      <td>966</td>\n",
       "    </tr>\n",
       "    <tr>\n",
       "      <th>Harry Potter and the Goblet of Fire</th>\n",
       "      <td>910</td>\n",
       "    </tr>\n",
       "    <tr>\n",
       "      <th>The Hunger Games</th>\n",
       "      <td>880</td>\n",
       "    </tr>\n",
       "    <tr>\n",
       "      <th>Harry Potter and the Order of the Phoenix</th>\n",
       "      <td>851</td>\n",
       "    </tr>\n",
       "  </tbody>\n",
       "</table>\n",
       "</div>"
      ],
      "text/plain": [
       "                                           count\n",
       "original_title                                  \n",
       "Bossypants                                  1588\n",
       "Yes Please                                  1556\n",
       "The Girl on the Train                       1238\n",
       "The Martian                                 1193\n",
       "Harry Potter and the Philosopher's Stone    1143\n",
       "Harry Potter and the Chamber of Secrets     1009\n",
       "Harry Potter and the Prisoner of Azkaban     966\n",
       "Harry Potter and the Goblet of Fire          910\n",
       "The Hunger Games                             880\n",
       "Harry Potter and the Order of the Phoenix    851"
      ]
     },
     "execution_count": 484,
     "metadata": {},
     "output_type": "execute_result"
    }
   ],
   "source": [
    "# Most popular audiobooks? 3389\n",
    "popular_books_with_tag(3389).head(10)"
   ]
  },
  {
   "cell_type": "code",
   "execution_count": 486,
   "metadata": {
    "collapsed": false
   },
   "outputs": [
    {
     "data": {
      "text/html": [
       "<div>\n",
       "<table border=\"1\" class=\"dataframe\">\n",
       "  <thead>\n",
       "    <tr style=\"text-align: right;\">\n",
       "      <th></th>\n",
       "      <th>count</th>\n",
       "    </tr>\n",
       "    <tr>\n",
       "      <th>original_title</th>\n",
       "      <th></th>\n",
       "    </tr>\n",
       "  </thead>\n",
       "  <tbody>\n",
       "    <tr>\n",
       "      <th>The Great Gatsby</th>\n",
       "      <td>2697</td>\n",
       "    </tr>\n",
       "    <tr>\n",
       "      <th>To Kill a Mockingbird</th>\n",
       "      <td>2505</td>\n",
       "    </tr>\n",
       "    <tr>\n",
       "      <th>Nineteen Eighty-Four</th>\n",
       "      <td>2345</td>\n",
       "    </tr>\n",
       "    <tr>\n",
       "      <th>The Catcher in the Rye</th>\n",
       "      <td>2186</td>\n",
       "    </tr>\n",
       "    <tr>\n",
       "      <th>Pride and Prejudice</th>\n",
       "      <td>2175</td>\n",
       "    </tr>\n",
       "    <tr>\n",
       "      <th>Animal Farm: A Fairy Story</th>\n",
       "      <td>2175</td>\n",
       "    </tr>\n",
       "    <tr>\n",
       "      <th>Lord of the Flies</th>\n",
       "      <td>1778</td>\n",
       "    </tr>\n",
       "    <tr>\n",
       "      <th>Of Mice and Men</th>\n",
       "      <td>1688</td>\n",
       "    </tr>\n",
       "    <tr>\n",
       "      <th>Jane Eyre</th>\n",
       "      <td>1644</td>\n",
       "    </tr>\n",
       "    <tr>\n",
       "      <th>Brave New World</th>\n",
       "      <td>1492</td>\n",
       "    </tr>\n",
       "  </tbody>\n",
       "</table>\n",
       "</div>"
      ],
      "text/plain": [
       "                            count\n",
       "original_title                   \n",
       "The Great Gatsby             2697\n",
       "To Kill a Mockingbird        2505\n",
       "Nineteen Eighty-Four         2345\n",
       "The Catcher in the Rye       2186\n",
       "Pride and Prejudice          2175\n",
       "Animal Farm: A Fairy Story   2175\n",
       "Lord of the Flies            1778\n",
       "Of Mice and Men              1688\n",
       "Jane Eyre                    1644\n",
       "Brave New World              1492"
      ]
     },
     "execution_count": 486,
     "metadata": {},
     "output_type": "execute_result"
    }
   ],
   "source": [
    "# Most popular literature? 18367\n",
    "popular_books_with_tag(18367).head(10)"
   ]
  },
  {
   "cell_type": "code",
   "execution_count": 488,
   "metadata": {
    "collapsed": false
   },
   "outputs": [
    {
     "data": {
      "text/html": [
       "<div>\n",
       "<table border=\"1\" class=\"dataframe\">\n",
       "  <thead>\n",
       "    <tr style=\"text-align: right;\">\n",
       "      <th></th>\n",
       "      <th>count</th>\n",
       "    </tr>\n",
       "    <tr>\n",
       "      <th>original_title</th>\n",
       "      <th></th>\n",
       "    </tr>\n",
       "  </thead>\n",
       "  <tbody>\n",
       "    <tr>\n",
       "      <th>Nineteen Eighty-Four</th>\n",
       "      <td>1535</td>\n",
       "    </tr>\n",
       "    <tr>\n",
       "      <th>The Great Gatsby</th>\n",
       "      <td>1361</td>\n",
       "    </tr>\n",
       "    <tr>\n",
       "      <th>To Kill a Mockingbird</th>\n",
       "      <td>1347</td>\n",
       "    </tr>\n",
       "    <tr>\n",
       "      <th>The Catcher in the Rye</th>\n",
       "      <td>1281</td>\n",
       "    </tr>\n",
       "    <tr>\n",
       "      <th>Animal Farm: A Fairy Story</th>\n",
       "      <td>1211</td>\n",
       "    </tr>\n",
       "    <tr>\n",
       "      <th>O Alquimista</th>\n",
       "      <td>1194</td>\n",
       "    </tr>\n",
       "    <tr>\n",
       "      <th>Harry Potter and the Philosopher's Stone</th>\n",
       "      <td>1082</td>\n",
       "    </tr>\n",
       "    <tr>\n",
       "      <th>Pride and Prejudice</th>\n",
       "      <td>1057</td>\n",
       "    </tr>\n",
       "    <tr>\n",
       "      <th>The Da Vinci Code</th>\n",
       "      <td>1018</td>\n",
       "    </tr>\n",
       "    <tr>\n",
       "      <th>The Kite Runner</th>\n",
       "      <td>933</td>\n",
       "    </tr>\n",
       "  </tbody>\n",
       "</table>\n",
       "</div>"
      ],
      "text/plain": [
       "                                          count\n",
       "original_title                                 \n",
       "Nineteen Eighty-Four                       1535\n",
       "The Great Gatsby                           1361\n",
       "To Kill a Mockingbird                      1347\n",
       "The Catcher in the Rye                     1281\n",
       "Animal Farm: A Fairy Story                 1211\n",
       "O Alquimista                               1194\n",
       "Harry Potter and the Philosopher's Stone   1082\n",
       "Pride and Prejudice                        1057\n",
       "The Da Vinci Code                          1018\n",
       "The Kite Runner                             933"
      ]
     },
     "execution_count": 488,
     "metadata": {},
     "output_type": "execute_result"
    }
   ],
   "source": [
    "# Most popular novels? 22034\n",
    "popular_books_with_tag(22034).head(10)"
   ]
  },
  {
   "cell_type": "code",
   "execution_count": null,
   "metadata": {
    "collapsed": true
   },
   "outputs": [],
   "source": [
    "# popularity of category across time\n",
    "# rating over time of major categories (over time referring to book publishing date, not rating date)\n",
    "# sorted_tag_data.head(50)"
   ]
  }
 ],
 "metadata": {
  "anaconda-cloud": {},
  "kernelspec": {
   "display_name": "Python [conda root]",
   "language": "python",
   "name": "conda-root-py"
  },
  "language_info": {
   "codemirror_mode": {
    "name": "ipython",
    "version": 3
   },
   "file_extension": ".py",
   "mimetype": "text/x-python",
   "name": "python",
   "nbconvert_exporter": "python",
   "pygments_lexer": "ipython3",
   "version": "3.5.2"
  }
 },
 "nbformat": 4,
 "nbformat_minor": 1
}
